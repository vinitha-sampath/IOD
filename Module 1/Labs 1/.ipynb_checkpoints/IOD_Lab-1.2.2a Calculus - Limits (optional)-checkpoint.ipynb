{
 "cells": [
  {
   "cell_type": "markdown",
   "metadata": {
    "id": "Xv41Pk1Qqxag"
   },
   "source": [
    "<div>\n",
    "<img src=https://www.institutedata.com/wp-content/uploads/2019/10/iod_h_tp_primary_c.svg width=\"300\">\n",
    "</div>\n",
    "\n",
    "# Calculus - Limits"
   ]
  },
  {
   "cell_type": "markdown",
   "metadata": {
    "id": "376ReFenqd7q"
   },
   "source": [
    "In this lab you will calculate a limit of a function - the key idea is that we evaluate the function at values arbitrarily close to a chosen input value, without actually reaching that value."
   ]
  },
  {
   "cell_type": "code",
   "execution_count": 3,
   "metadata": {
    "executionInfo": {
     "elapsed": 393,
     "status": "ok",
     "timestamp": 1708402277860,
     "user": {
      "displayName": "Chaitanya Rao",
      "userId": "16367114639785284684"
     },
     "user_tz": -660
    },
    "id": "1MZb95OFqxah"
   },
   "outputs": [],
   "source": [
    "import numpy as np\n",
    "import matplotlib.pyplot as plt\n",
    "\n",
    "# get matplot to show charts inline\n",
    "%matplotlib inline"
   ]
  },
  {
   "cell_type": "code",
   "execution_count": 4,
   "metadata": {
    "executionInfo": {
     "elapsed": 9,
     "status": "ok",
     "timestamp": 1708402277860,
     "user": {
      "displayName": "Chaitanya Rao",
      "userId": "16367114639785284684"
     },
     "user_tz": -660
    },
    "id": "oUpp-5Prqxaj"
   },
   "outputs": [],
   "source": [
    "# define a function, say f(x) = (x**3-1)/(x-1)\n",
    "def f(x):\n",
    "    if x==1:\n",
    "        return float('nan')\n",
    "    else:\n",
    "        return (x**3-1)/(x-1)"
   ]
  },
  {
   "cell_type": "code",
   "execution_count": 5,
   "metadata": {
    "colab": {
     "base_uri": "https://localhost:8080/"
    },
    "executionInfo": {
     "elapsed": 10,
     "status": "ok",
     "timestamp": 1708402277861,
     "user": {
      "displayName": "Chaitanya Rao",
      "userId": "16367114639785284684"
     },
     "user_tz": -660
    },
    "id": "XpejBQNAqxal",
    "outputId": "ed22d5da-2812-4cf5-9db5-a9757458a119"
   },
   "outputs": [
    {
     "name": "stdout",
     "output_type": "stream",
     "text": [
      "f(4) =  21.0\n"
     ]
    }
   ],
   "source": [
    "# calculate value of f(x) for some values\n",
    "print('f(4) = ',f(4))"
   ]
  },
  {
   "cell_type": "code",
   "execution_count": 6,
   "metadata": {
    "colab": {
     "base_uri": "https://localhost:8080/",
     "height": 245
    },
    "executionInfo": {
     "elapsed": 9,
     "status": "error",
     "timestamp": 1708402277861,
     "user": {
      "displayName": "Chaitanya Rao",
      "userId": "16367114639785284684"
     },
     "user_tz": -660
    },
    "id": "SeneRcVZqxao",
    "outputId": "8ceff51d-53d1-4683-c20d-64df7c79ad68"
   },
   "outputs": [
    {
     "name": "stdout",
     "output_type": "stream",
     "text": [
      "f(1) =  nan\n"
     ]
    }
   ],
   "source": [
    "# calculate value of f(x) for 1\n",
    "print('f(1) = ', f(1))"
   ]
  },
  {
   "cell_type": "code",
   "execution_count": 7,
   "metadata": {},
   "outputs": [
    {
     "name": "stdout",
     "output_type": "stream",
     "text": [
      "[0.505 0.515 0.525 0.535 0.545 0.555 0.565 0.575 0.585 0.595 0.605 0.615\n",
      " 0.625 0.635 0.645 0.655 0.665 0.675 0.685 0.695 0.705 0.715 0.725 0.735\n",
      " 0.745 0.755 0.765 0.775 0.785 0.795 0.805 0.815 0.825 0.835 0.845 0.855\n",
      " 0.865 0.875 0.885 0.895 0.905 0.915 0.925 0.935 0.945 0.955 0.965 0.975\n",
      " 0.985 0.995 1.005 1.015 1.025 1.035 1.045 1.055 1.065 1.075 1.085 1.095\n",
      " 1.105 1.115 1.125 1.135 1.145 1.155 1.165 1.175 1.185 1.195 1.205 1.215\n",
      " 1.225 1.235 1.245 1.255 1.265 1.275 1.285 1.295 1.305 1.315 1.325 1.335\n",
      " 1.345 1.355 1.365 1.375 1.385 1.395 1.405 1.415 1.425 1.435 1.445 1.455\n",
      " 1.465 1.475 1.485 1.495]\n"
     ]
    }
   ],
   "source": [
    "x = np.arange(0.505, 1.495, 0.01)\n",
    "print(x)"
   ]
  },
  {
   "cell_type": "code",
   "execution_count": 12,
   "metadata": {},
   "outputs": [
    {
     "name": "stdout",
     "output_type": "stream",
     "text": [
      "[1.760025 1.780225 1.800625 1.821225 1.842025 1.863025 1.884225 1.905625\n",
      " 1.927225 1.949025 1.971025 1.993225 2.015625 2.038225 2.061025 2.084025\n",
      " 2.107225 2.130625 2.154225 2.178025 2.202025 2.226225 2.250625 2.275225\n",
      " 2.300025 2.325025 2.350225 2.375625 2.401225 2.427025 2.453025 2.479225\n",
      " 2.505625 2.532225 2.559025 2.586025 2.613225 2.640625 2.668225 2.696025\n",
      " 2.724025 2.752225 2.780625 2.809225 2.838025 2.867025 2.896225 2.925625\n",
      " 2.955225 2.985025 3.015025 3.045225 3.075625 3.106225 3.137025 3.168025\n",
      " 3.199225 3.230625 3.262225 3.294025 3.326025 3.358225 3.390625 3.423225\n",
      " 3.456025 3.489025 3.522225 3.555625 3.589225 3.623025 3.657025 3.691225\n",
      " 3.725625 3.760225 3.795025 3.830025 3.865225 3.900625 3.936225 3.972025\n",
      " 4.008025 4.044225 4.080625 4.117225 4.154025 4.191025 4.228225 4.265625\n",
      " 4.303225 4.341025 4.379025 4.417225 4.455625 4.494225 4.533025 4.572025\n",
      " 4.611225 4.650625 4.690225 4.730025]\n"
     ]
    }
   ],
   "source": [
    "# Define f(x) in an interval around 1\n",
    "def f(x):\n",
    "    result = (x**3 - 1) / (x - 1)\n",
    "    result[np.isclose(x, 1)] = np.nan\n",
    "    return result\n",
    "x = np.arange(0.505, 1.495, 0.01)\n",
    "y = f(x)\n",
    "print(y)"
   ]
  },
  {
   "cell_type": "markdown",
   "metadata": {
    "id": "pSaqa-YL9VQu"
   },
   "source": [
    "Plot y versus x as lines and/or markers.\n",
    "\n",
    "> matplotlib.pyplot.plot\n",
    "\n",
    "[matplotlib.pyplot.plot](https://matplotlib.org/3.1.0/api/_as_gen/matplotlib.pyplot.plot.html)"
   ]
  },
  {
   "cell_type": "code",
   "execution_count": 9,
   "metadata": {
    "colab": {
     "base_uri": "https://localhost:8080/",
     "height": 447
    },
    "executionInfo": {
     "elapsed": 454,
     "status": "ok",
     "timestamp": 1708402418595,
     "user": {
      "displayName": "Chaitanya Rao",
      "userId": "16367114639785284684"
     },
     "user_tz": -660
    },
    "id": "8P9JUh5Hqxat",
    "outputId": "6d05fe60-e087-4be9-8786-a574ebd178cf"
   },
   "outputs": [
    {
     "data": {
      "text/plain": [
       "Text(0.5, 1.0, 'y versus x as lines')"
      ]
     },
     "execution_count": 9,
     "metadata": {},
     "output_type": "execute_result"
    },
    {
     "data": {
      "image/png": "[encoded data removed]",
      "text/plain": [
       "<Figure size 640x480 with 1 Axes>"
      ]
     },
     "metadata": {},
     "output_type": "display_data"
    }
   ],
   "source": [
    "plt.plot(x,y)\n",
    "plt.xlabel(\"x\")\n",
    "plt.xlabel(\"y\")\n",
    "plt.title(\"y versus x as lines\")"
   ]
  },
  {
   "cell_type": "code",
   "execution_count": 11,
   "metadata": {
    "colab": {
     "base_uri": "https://localhost:8080/"
    },
    "executionInfo": {
     "elapsed": 2,
     "status": "ok",
     "timestamp": 1708402285075,
     "user": {
      "displayName": "Chaitanya Rao",
      "userId": "16367114639785284684"
     },
     "user_tz": -660
    },
    "id": "ZCjgHpvlsyiG",
    "outputId": "cd602992-cf7a-48a2-838f-94d1a4dd0075"
   },
   "outputs": [
    {
     "name": "stdout",
     "output_type": "stream",
     "text": [
      "f(1.1) = 3.310000000000001\n",
      "f(1.01) = 3.0301000000000107\n",
      "f(1.001) = 3.0030010000000584\n",
      "f(1.0001) = 3.0003000099990658\n"
     ]
    }
   ],
   "source": [
    "def f(x):\n",
    "    if np.isclose(x, 1):\n",
    "        return np.nan\n",
    "    else:\n",
    "        return (x**3 - 1) / (x - 1)\n",
    "\n",
    "print('f(1.1) =', f(1.1))\n",
    "print('f(1.01) =', f(1.01))\n",
    "print('f(1.001) =', f(1.001))\n",
    "print('f(1.0001) =', f(1.0001))"
   ]
  },
  {
   "cell_type": "code",
   "execution_count": 15,
   "metadata": {
    "colab": {
     "base_uri": "https://localhost:8080/"
    },
    "executionInfo": {
     "elapsed": 3,
     "status": "ok",
     "timestamp": 1708402285618,
     "user": {
      "displayName": "Chaitanya Rao",
      "userId": "16367114639785284684"
     },
     "user_tz": -660
    },
    "id": "DYKLah1LsyRj",
    "outputId": "95f88fc5-e14c-4090-8f8c-ae1dfe632b78"
   },
   "outputs": [
    {
     "name": "stdout",
     "output_type": "stream",
     "text": [
      "f(0.9) = 2.7099999999999995\n",
      "f(0.99) = 2.970099999999995\n",
      "f(0.999) = 2.9970009999999965\n",
      "f(0.9999) = 2.999700010000492\n"
     ]
    }
   ],
   "source": [
    "def f(x):\n",
    "    if np.isclose(x,1):\n",
    "        return np.naa\n",
    "    else:\n",
    "        return (x**3 - 1) / (x - 1)\n",
    "\n",
    "print('f(0.9) =', f(0.9))\n",
    "print('f(0.99) =', f(0.99))\n",
    "print('f(0.999) =', f(0.999))\n",
    "print('f(0.9999) =', f(0.9999))"
   ]
  },
  {
   "cell_type": "markdown",
   "metadata": {
    "id": "LpwVMoIBtVM_"
   },
   "source": [
    "Hence the limit of 3 can be determined even though the function is undefined at x=1."
   ]
  },
  {
   "cell_type": "markdown",
   "metadata": {
    "id": "xPaD4APPpQyD"
   },
   "source": [
    "\n",
    "\n",
    "---\n",
    "\n",
    "\n",
    "\n",
    "---\n",
    "\n",
    "\n",
    "\n",
    "> > > > > > > > > © 2024 Institute of Data\n",
    "\n",
    "\n",
    "---\n",
    "\n",
    "\n",
    "\n",
    "---\n",
    "\n",
    "\n",
    "\n"
   ]
  }
 ],
 "metadata": {
  "colab": {
   "provenance": [
    {
     "file_id": "https://github.com/ikfaisal/dsia/blob/master/Calculus_Limits.ipynb",
     "timestamp": 1552460589389
    }
   ]
  },
  "kernelspec": {
   "display_name": "Python 3 (ipykernel)",
   "language": "python",
   "name": "python3"
  },
  "language_info": {
   "codemirror_mode": {
    "name": "ipython",
    "version": 3
   },
   "file_extension": ".py",
   "mimetype": "text/x-python",
   "name": "python",
   "nbconvert_exporter": "python",
   "pygments_lexer": "ipython3",
   "version": "3.12.3"
  }
 },
 "nbformat": 4,
 "nbformat_minor": 4
}
