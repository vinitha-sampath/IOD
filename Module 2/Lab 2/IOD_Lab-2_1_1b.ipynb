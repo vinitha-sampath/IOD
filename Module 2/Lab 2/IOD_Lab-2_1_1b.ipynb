{
 "cells": [
  {
   "cell_type": "markdown",
   "metadata": {
    "id": "PopLE1ywNQsa"
   },
   "source": [
    "<div>\n",
    "<img src=https://www.institutedata.com/wp-content/uploads/2019/10/iod_h_tp_primary_c.svg width=\"300\">\n",
    "</div>"
   ]
  },
  {
   "cell_type": "markdown",
   "metadata": {
    "id": "e45O_NedNQsd"
   },
   "source": [
    "# Lab 2.1.1b\n",
    "# *Data Cleaning with Pandas*\n",
    "\n",
    "In this lab we work with a file that has messy column names and a combination of missing and invalid data to be cleaned."
   ]
  },
  {
   "cell_type": "markdown",
   "metadata": {
    "id": "JykYEjUHVppc"
   },
   "source": [
    "To start with load `rock.csv` into a dataframe."
   ]
  },
  {
   "cell_type": "code",
   "execution_count": 41,
   "metadata": {},
   "outputs": [],
   "source": [
    "import numpy as np\n",
    "import pandas as pd"
   ]
  },
  {
   "cell_type": "code",
   "execution_count": 42,
   "metadata": {
    "id": "ePj_kKHZPTfW"
   },
   "outputs": [
    {
     "name": "stdout",
     "output_type": "stream",
     "text": [
      "               Song Clean ARTIST CLEAN Release Year  \\\n",
      "0        Caught Up in You  .38 Special         1982   \n",
      "1            Fantasy Girl  .38 Special          NaN   \n",
      "2         Hold On Loosely  .38 Special         1981   \n",
      "3  Rockin' Into the Night  .38 Special         1980   \n",
      "4       Art For Arts Sake         10cc         1975   \n",
      "\n",
      "                                COMBINED  First?  Year?  PlayCount  F*G  \n",
      "0        Caught Up in You by .38 Special       1      1         82   82  \n",
      "1            Fantasy Girl by .38 Special       1      0          3    0  \n",
      "2         Hold On Loosely by .38 Special       1      1         85   85  \n",
      "3  Rockin' Into the Night by .38 Special       1      1         18   18  \n",
      "4              Art For Arts Sake by 10cc       1      1          1    1  \n",
      "Index(['Song Clean', 'ARTIST CLEAN', 'Release Year', 'COMBINED', 'First?',\n",
      "       'Year?', 'PlayCount', 'F*G'],\n",
      "      dtype='object')\n"
     ]
    }
   ],
   "source": [
    "# ANSWER\n",
    "df = pd.read_csv('C:/Users/Vinitha/Desktop/IOD/DATA/rock.csv')\n",
    "print(df.head())\n",
    "print(df.columns)"
   ]
  },
  {
   "cell_type": "markdown",
   "metadata": {
    "id": "NZQ4WoVYVppf"
   },
   "source": [
    "### Check Column Names\n",
    "\n",
    "Check column names and clean by converting all names to lowercase, replacing spaces with underscores (`_`) and removing question marks or asterisk (`*`) characters."
   ]
  },
  {
   "cell_type": "code",
   "execution_count": 55,
   "metadata": {
    "id": "xo8FGCLMPaqG"
   },
   "outputs": [],
   "source": [
    "# ANSWER\n",
    "df.columns = df.columns.str.replace('First?', 'First')"
   ]
  },
  {
   "cell_type": "code",
   "execution_count": 60,
   "metadata": {},
   "outputs": [
    {
     "name": "stdout",
     "output_type": "stream",
     "text": [
      "Index(['song clean', 'artist clean', 'release year', 'combined', 'first',\n",
      "       'year', 'playcount', 'fg'],\n",
      "      dtype='object')\n"
     ]
    }
   ],
   "source": [
    "def clean_column_names(df):\n",
    "   df.columns =  df.columns.str.lower()\\\n",
    "                    .str.replace(\"_\",\"\") \\\n",
    "                    .str.replace(\"?\",\"\") \\\n",
    "                    .str.replace(\"*\",\"\")\n",
    "   return df\n",
    "df= clean_column_names(df)\n",
    "print(df.columns)"
   ]
  },
  {
   "cell_type": "code",
   "execution_count": 44,
   "metadata": {},
   "outputs": [
    {
     "data": {
      "text/plain": [
       "Index(['Song Clean', 'ARTIST CLEAN', 'Release Year', 'COMBINED', 'First?',\n",
       "       'Year?', 'PlayCount', 'F*G'],\n",
       "      dtype='object')"
      ]
     },
     "execution_count": 44,
     "metadata": {},
     "output_type": "execute_result"
    }
   ],
   "source": [
    "df.columns"
   ]
  },
  {
   "cell_type": "markdown",
   "metadata": {
    "id": "KToV3ub3Vppg"
   },
   "source": [
    "### Replace Null Values With 0\n",
    "\n",
    "Check 'release_year' column whether this column has any null values or not. Replace null values with 0."
   ]
  },
  {
   "cell_type": "code",
   "execution_count": 63,
   "metadata": {
    "id": "BKpu14X8Pcaa"
   },
   "outputs": [
    {
     "name": "stdout",
     "output_type": "stream",
     "text": [
      "0\n",
      "0\n"
     ]
    }
   ],
   "source": [
    "# ANSWER\n",
    "print(df[\"release year\"].isnull().sum())\n",
    "df[\"release year\"] = df[\"release year\"].fillna(0)\n",
    "print(df[\"release year\"].isnull().sum())"
   ]
  },
  {
   "cell_type": "code",
   "execution_count": null,
   "metadata": {},
   "outputs": [],
   "source": []
  },
  {
   "cell_type": "markdown",
   "metadata": {
    "id": "RQ2GyN7MVpph"
   },
   "source": [
    "## Check Datatypes of Dataset\n",
    "\n",
    "Check datatypes of the dataset. Is there any column which should be int instead of object? Fix the column."
   ]
  },
  {
   "cell_type": "code",
   "execution_count": 49,
   "metadata": {
    "id": "hJe7YtjpPeXb"
   },
   "outputs": [
    {
     "data": {
      "text/plain": [
       "Song Clean      object\n",
       "ARTIST CLEAN    object\n",
       "Release Year    object\n",
       "COMBINED        object\n",
       "First?           int64\n",
       "Year?            int64\n",
       "PlayCount        int64\n",
       "F*G              int64\n",
       "dtype: object"
      ]
     },
     "execution_count": 49,
     "metadata": {},
     "output_type": "execute_result"
    }
   ],
   "source": [
    "# ANSWER\n",
    "df[\"release year\"] = pd.to_numeric\n",
    "df.dtypes "
   ]
  },
  {
   "cell_type": "markdown",
   "metadata": {
    "id": "fCzoReoXVpph"
   },
   "source": [
    "## Check Min, Max of Each Column\n",
    "\n",
    "Is there any illogical value in any column? How can we fix that?"
   ]
  },
  {
   "cell_type": "code",
   "execution_count": 67,
   "metadata": {
    "id": "ANbfndqRPgII"
   },
   "outputs": [
    {
     "name": "stdout",
     "output_type": "stream",
     "text": [
      "('min', first        1\n",
      "year         0\n",
      "playcount    0\n",
      "fg           0\n",
      "dtype: int64) ('max', first          1\n",
      "year           1\n",
      "playcount    142\n",
      "fg           142\n",
      "dtype: int64)\n"
     ]
    }
   ],
   "source": [
    "# ANSWER\n",
    "print((\"min\",df.min(numeric_only = True)),(\"max\",df.max(numeric_only = True)))"
   ]
  },
  {
   "cell_type": "markdown",
   "metadata": {
    "id": "NzJieuuyVppi"
   },
   "source": [
    "## Write Some Functions"
   ]
  },
  {
   "cell_type": "markdown",
   "metadata": {
    "id": "2jYAjnOVVppi"
   },
   "source": [
    "### Write a function that will take a row of a DataFrame and print out the song, artist, and whether or not the release date is < 1970"
   ]
  },
  {
   "cell_type": "code",
   "execution_count": null,
   "metadata": {
    "id": "DbzBVN6nPtKf"
   },
   "outputs": [],
   "source": [
    "# ANSWER\n"
   ]
  },
  {
   "cell_type": "markdown",
   "metadata": {
    "id": "tk1XfgtkVppj"
   },
   "source": [
    "### Write a function that converts a column in a DataFrame to a numeric type and otherwise replaces entries with np.nan"
   ]
  },
  {
   "cell_type": "code",
   "execution_count": null,
   "metadata": {
    "id": "GHhBft24Pt5I"
   },
   "outputs": [],
   "source": [
    "# ANSWER\n"
   ]
  },
  {
   "cell_type": "markdown",
   "metadata": {
    "id": "EEIsPER2Vppj"
   },
   "source": [
    "### Apply this last function to your dataset"
   ]
  },
  {
   "cell_type": "code",
   "execution_count": null,
   "metadata": {
    "id": "dDdI3wNtPuhm"
   },
   "outputs": [],
   "source": [
    "# ANSWER\n"
   ]
  },
  {
   "cell_type": "markdown",
   "metadata": {
    "id": "Jz86dxCFVppk"
   },
   "source": [
    "### 'Describe' the new DataFrame"
   ]
  },
  {
   "cell_type": "code",
   "execution_count": null,
   "metadata": {
    "id": "AuqD25nDPvqn"
   },
   "outputs": [],
   "source": [
    "# ANSWER\n"
   ]
  },
  {
   "cell_type": "markdown",
   "metadata": {
    "id": "w2asO3_lDFm8"
   },
   "source": [
    ">\n"
   ]
  },
  {
   "cell_type": "markdown",
   "metadata": {
    "id": "MlasiTKgDGdA"
   },
   "source": [
    "\n",
    "\n",
    "---\n",
    "\n",
    "\n",
    "\n",
    "---\n",
    "\n",
    "\n",
    "\n",
    "> > > > > > > > > © 2024 Institute of Data\n",
    "\n",
    "\n",
    "---\n",
    "\n",
    "\n",
    "\n",
    "---\n",
    "\n",
    "\n",
    "\n"
   ]
  }
 ],
 "metadata": {
  "colab": {
   "provenance": [],
   "toc_visible": true
  },
  "kernelspec": {
   "display_name": "Python 3 (ipykernel)",
   "language": "python",
   "name": "python3"
  },
  "language_info": {
   "codemirror_mode": {
    "name": "ipython",
    "version": 3
   },
   "file_extension": ".py",
   "mimetype": "text/x-python",
   "name": "python",
   "nbconvert_exporter": "python",
   "pygments_lexer": "ipython3",
   "version": "3.12.3"
  },
  "varInspector": {
   "cols": {
    "lenName": 16,
    "lenType": 16,
    "lenVar": 40
   },
   "kernels_config": {
    "python": {
     "delete_cmd_postfix": "",
     "delete_cmd_prefix": "del ",
     "library": "var_list.py",
     "varRefreshCmd": "print(var_dic_list())"
    },
    "r": {
     "delete_cmd_postfix": ") ",
     "delete_cmd_prefix": "rm(",
     "library": "var_list.r",
     "varRefreshCmd": "cat(var_dic_list()) "
    }
   },
   "types_to_exclude": [
    "module",
    "function",
    "builtin_function_or_method",
    "instance",
    "_Feature"
   ],
   "window_display": false
  }
 },
 "nbformat": 4,
 "nbformat_minor": 4
}
