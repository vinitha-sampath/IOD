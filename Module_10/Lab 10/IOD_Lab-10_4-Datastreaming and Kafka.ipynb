{
 "cells": [
  {
   "cell_type": "markdown",
   "metadata": {
    "id": "3HgGfptrWJN0"
   },
   "source": [
    "<div>\n",
    "<img src=https://www.institutedata.com/wp-content/uploads/2019/10/iod_h_tp_primary_c.svg width=\"300\">\n",
    "</div>"
   ]
  },
  {
   "cell_type": "markdown",
   "metadata": {
    "id": "5TdlZ1aoMido"
   },
   "source": [
    "# Lab 10.4 - Analysing Streaming Data with Kafka"
   ]
  },
  {
   "cell_type": "markdown",
   "metadata": {
    "id": "jjiexW4Ic9C5"
   },
   "source": [
    "## Introduction"
   ]
  },
  {
   "cell_type": "markdown",
   "metadata": {
    "id": "H1TWbkec8Bhj"
   },
   "source": [
    "**Note**: this notebook is to be run in Google Colab on your Google Drive. It will not work locally on your computer.\n",
    "\n",
    "The purpose of this lab is to gain experience in working with streaming data, using Apache Kafka installed on Google Colaboratory (Colab). You will see how a simple streaming dashboard data is created using the Dash library and simulate live model scoring in monitoring a machine learning model.\n",
    "\n",
    "Apache Kafka is an open-source distributed publish-subscribe messaging system that maintains streams of messages in topics. It has become a highly popular streaming platform for real-time applications.\n",
    "\n",
    "In Google Colab, a virtual machine is automatically set up to execute your code. The maximum lifetime of such a machine is 12 hours. Note that notebooks will be disconnected from virtual machines if left idle. If this happens simple click on the Connect button to reconnect. If the kernel needs to be restarted (via the Runtime menu), variables may be lost but packages would not need to be reinstalled unless a new machine is assigned.\n",
    "\n",
    "https://research.google.com/colaboratory/faq.html\n",
    "\n",
    "Sign into colab.research.google.com and choose the Upload tab and upload this notebook.  This will automatically create a folder called \"Colab Notebooks\" in your Google Drive (if it does not already exist). Next upload the dataset **\"fraud_data.csv\"** into this \"Colab Notebooks\" folder by going firstly to drive.google.com."
   ]
  },
  {
   "cell_type": "markdown",
   "metadata": {
    "id": "QEQrAS-ZFvrg"
   },
   "source": [
    "## Setup"
   ]
  },
  {
   "cell_type": "markdown",
   "metadata": {
    "id": "VDP3RABqIFKx"
   },
   "source": [
    "The following code connects your Google Drive to this notebook. A new window will open to prompt you to allow the connection to occur."
   ]
  },
  {
   "cell_type": "code",
   "execution_count": null,
   "metadata": {
    "colab": {
     "base_uri": "https://localhost:8080/"
    },
    "executionInfo": {
     "elapsed": 3812,
     "status": "ok",
     "timestamp": 1688021767186,
     "user": {
      "displayName": "Doney Zhang",
      "userId": "17945203992268091751"
     },
     "user_tz": -720
    },
    "id": "eO5HBG2nauQx",
    "outputId": "15037587-44f3-49b0-f2a6-dad82c5ce89e"
   },
   "outputs": [
    {
     "name": "stdout",
     "output_type": "stream",
     "text": [
      "Mounted at /content/gdrive\n"
     ]
    }
   ],
   "source": [
    "from google.colab import drive\n",
    "drive.mount('/content/gdrive')"
   ]
  },
  {
   "cell_type": "markdown",
   "metadata": {
    "id": "fEsRfDUCNcLR"
   },
   "source": [
    "Upon running the following cell you should see the name of this notebook and fraud_data.csv."
   ]
  },
  {
   "cell_type": "code",
   "execution_count": null,
   "metadata": {
    "colab": {
     "base_uri": "https://localhost:8080/"
    },
    "executionInfo": {
     "elapsed": 517,
     "status": "ok",
     "timestamp": 1688021849041,
     "user": {
      "displayName": "Doney Zhang",
      "userId": "17945203992268091751"
     },
     "user_tz": -720
    },
    "id": "CyHcYFw7a8HA",
    "outputId": "a85915c8-9a0d-4692-b43a-b9074f52a486"
   },
   "outputs": [
    {
     "name": "stdout",
     "output_type": "stream",
     "text": [
      "fraud_data.csv\n"
     ]
    }
   ],
   "source": [
    "!ls \"/content/gdrive/My Drive/Colab Notebooks/\""
   ]
  },
  {
   "cell_type": "markdown",
   "metadata": {
    "id": "rbK5G8B3CYZl"
   },
   "source": [
    "Next download and install Kafka:"
   ]
  },
  {
   "cell_type": "code",
   "execution_count": null,
   "metadata": {
    "colab": {
     "base_uri": "https://localhost:8080/"
    },
    "executionInfo": {
     "elapsed": 887,
     "status": "ok",
     "timestamp": 1688021856256,
     "user": {
      "displayName": "Doney Zhang",
      "userId": "17945203992268091751"
     },
     "user_tz": -720
    },
    "id": "qyZarLXNtSk1",
    "outputId": "f05a9cf4-7f85-4759-db7d-832cbe0fb9db"
   },
   "outputs": [
    {
     "name": "stdout",
     "output_type": "stream",
     "text": [
      "\n",
      "gzip: stdin: not in gzip format\n",
      "tar: Child returned status 1\n",
      "tar: Error is not recoverable: exiting now\n"
     ]
    }
   ],
   "source": [
    "!curl -sSOL https://downloads.apache.org/kafka/3.7.0/kafka_2.13-3.7.0.tgz\n",
    "!tar -xzf kafka_2.13-3.7.0.tgz"
   ]
  },
  {
   "cell_type": "markdown",
   "metadata": {
    "id": "TSQb5hZHDLny"
   },
   "source": [
    "The kafka-python library will provide a Python-like interface to the Kafka platform:"
   ]
  },
  {
   "cell_type": "code",
   "execution_count": null,
   "metadata": {
    "colab": {
     "base_uri": "https://localhost:8080/"
    },
    "executionInfo": {
     "elapsed": 4556,
     "status": "ok",
     "timestamp": 1688021865354,
     "user": {
      "displayName": "Doney Zhang",
      "userId": "17945203992268091751"
     },
     "user_tz": -720
    },
    "id": "T3_0eh5_tGgl",
    "outputId": "ac08ffc6-8381-4523-f6f1-f77c502a9263"
   },
   "outputs": [
    {
     "name": "stdout",
     "output_type": "stream",
     "text": [
      "Collecting kafka-python\n",
      "  Downloading kafka_python-2.0.2-py2.py3-none-any.whl (246 kB)\n",
      "\u001b[?25l     \u001b[90m━━━━━━━━━━━━━━━━━━━━━━━━━━━━━━━━━━━━━━━━\u001b[0m \u001b[32m0.0/246.5 kB\u001b[0m \u001b[31m?\u001b[0m eta \u001b[36m-:--:--\u001b[0m\r",
      "\u001b[2K     \u001b[90m━━━━━━━━━━━━━━━━━━━━━━━━━━━━━━━━━━━━━━━\u001b[0m \u001b[32m246.5/246.5 kB\u001b[0m \u001b[31m8.5 MB/s\u001b[0m eta \u001b[36m0:00:00\u001b[0m\n",
      "\u001b[?25hInstalling collected packages: kafka-python\n",
      "Successfully installed kafka-python-2.0.2\n"
     ]
    }
   ],
   "source": [
    "!pip install kafka-python"
   ]
  },
  {
   "cell_type": "markdown",
   "metadata": {
    "id": "Kp9njQQ_DXAW"
   },
   "source": [
    "Finally dash will be used for interactive plotting in this notebook:"
   ]
  },
  {
   "cell_type": "code",
   "execution_count": null,
   "metadata": {
    "id": "SDS0S6NFnQtc"
   },
   "outputs": [],
   "source": [
    "!pip install dash"
   ]
  },
  {
   "cell_type": "code",
   "execution_count": null,
   "metadata": {
    "id": "aOmt5gH8tNd_"
   },
   "outputs": [],
   "source": [
    "import time\n",
    "import pandas as pd\n",
    "%matplotlib inline\n",
    "import matplotlib.pyplot as plt\n",
    "import seaborn as sns\n",
    "\n",
    "from kafka import KafkaProducer\n",
    "from kafka import KafkaConsumer\n",
    "\n",
    "from dash import Dash\n",
    "from dash import dcc\n",
    "from dash import html\n",
    "from dash.dependencies import (Input, Output)\n",
    "import plotly.graph_objs as go\n",
    "from plotly.subplots import make_subplots\n",
    "\n",
    "import re\n",
    "import warnings\n",
    "warnings.filterwarnings('ignore')"
   ]
  },
  {
   "cell_type": "markdown",
   "metadata": {
    "id": "3S6gNu8jiEpe"
   },
   "source": [
    "We use the following shell command to run Zookeeper and Kafka.\n",
    "\n",
    "Apache ZooKeeper is used in distributed systems for service synchronisation, tracking the status of nodes in the Kafka cluster and maintaining a list of Kafka topics and messages."
   ]
  },
  {
   "cell_type": "code",
   "execution_count": null,
   "metadata": {
    "id": "ObSSLTHEtXpM"
   },
   "outputs": [],
   "source": [
    "!./kafka_2.13-3.7.0/bin/zookeeper-server-start.sh -daemon ./kafka_2.13-3.7.0/config/zookeeper.properties\n",
    "!./kafka_2.13-3.7.0/bin/kafka-server-start.sh -daemon ./kafka_2.13-3.7.0/config/server.properties\n",
    "!echo \"Waiting until zookeeper and kafka services are ready\"\n",
    "!sleep 10"
   ]
  },
  {
   "cell_type": "markdown",
   "metadata": {
    "id": "XtyI7IZWWKT4"
   },
   "source": [
    "## Loading the dataset"
   ]
  },
  {
   "cell_type": "markdown",
   "metadata": {
    "id": "SXaev13DBX9n"
   },
   "source": [
    "The dataset fraud_data.csv represents credit card transactions which have been labelled as fraudulent or non-fraudulent. It is synthetically generated and is based on the dataset at https://www.kaggle.com/kartik2112/fraud-detection. Some of the features based on transactions in the past 24 hours or 6 months have been engineered from the raw data.\n",
    "\n",
    "- trans_datetime - date and time of the transaction\n",
    "- cc_num - credit card number of the customer\n",
    "- merchant - name of the merchant to which the customer is paying\n",
    "- amt: amount of the transaction in $\n",
    "- first: first name of the customer\n",
    "- last: last name of the customer\n",
    "- gender: gender of the customer\n",
    "- street, city, state: address of the customer\n",
    "- zip: zip code of the transaction\n",
    "- lat: latitude of the customer\n",
    "- long: longitude of the customer\n",
    "- city_pop: population of the city where the customer is living\n",
    "- job, age: job and age of the customer\n",
    "- num_trans_60d, num_trans_24h: number of transactions by this credit card in the past 60 days, 24 hours respectively\n",
    "- num_fraud_trans_24h: number of fraudulent transactions by this credit card in the past 24 hours\n",
    "- avg_trans_amt_60d: the average number of transactions by this credit card in the past 60 days\n",
    "- is_fraud: whether the transaction is fraud or not (1 - fraud, 0 - not fraud)"
   ]
  },
  {
   "cell_type": "code",
   "execution_count": null,
   "metadata": {
    "id": "A_GkHdyIyMmL"
   },
   "outputs": [],
   "source": [
    "df = pd.read_csv('/content/gdrive/My Drive/Colab Notebooks/fraud_data.csv')\n",
    "df.head()"
   ]
  },
  {
   "cell_type": "markdown",
   "metadata": {
    "id": "2AQ-zuTVbRh2"
   },
   "source": [
    "## Perform EDA\n",
    "\n",
    "**Exercise**: Perform some exploratory data analysis on the df dataframe."
   ]
  },
  {
   "cell_type": "code",
   "execution_count": null,
   "metadata": {
    "id": "VjfgN_ig1DXE"
   },
   "outputs": [],
   "source": []
  },
  {
   "cell_type": "code",
   "execution_count": null,
   "metadata": {
    "id": "1VV_3mf00de-"
   },
   "outputs": [],
   "source": []
  },
  {
   "cell_type": "code",
   "execution_count": null,
   "metadata": {
    "id": "b2_-U6ueEEBu"
   },
   "outputs": [],
   "source": []
  },
  {
   "cell_type": "code",
   "execution_count": null,
   "metadata": {
    "id": "U1apYwSY1NyV"
   },
   "outputs": [],
   "source": []
  },
  {
   "cell_type": "markdown",
   "metadata": {
    "id": "SDCAhfQ-nfFL"
   },
   "source": [
    "**Question**: How balanced is this dataset?"
   ]
  },
  {
   "cell_type": "code",
   "execution_count": null,
   "metadata": {
    "id": "afLHBhBt1kAx"
   },
   "outputs": [],
   "source": [
    "# ANSWER\n"
   ]
  },
  {
   "cell_type": "markdown",
   "metadata": {
    "id": "Ao0SNayvOpZN"
   },
   "source": [
    "Correlation matrix:"
   ]
  },
  {
   "cell_type": "code",
   "execution_count": null,
   "metadata": {
    "id": "Qm9Tn-XmyJbQ"
   },
   "outputs": [],
   "source": [
    "df_numerical = df[['amount', 'lat', 'lon', 'city_pop', 'age', 'num_trans_60d',\n",
    "                   'num_trans_24h', 'num_fraud_trans_24h', 'avg_trans_amt_60d',\n",
    "                   'is_fraud']]"
   ]
  },
  {
   "cell_type": "code",
   "execution_count": null,
   "metadata": {
    "id": "wlDWcWjObReN"
   },
   "outputs": [],
   "source": [
    "colormap = plt.cm.coolwarm\n",
    "plt.figure(figsize = (10, 10))\n",
    "plt.title('Pearson Correlation of Features', size = 15)\n",
    "sns.heatmap(df_numerical.astype(float).corr(),\n",
    "            linewidths = 0.1,\n",
    "            vmax = 1.0,\n",
    "            square = True,\n",
    "            cmap = colormap,\n",
    "            linecolor = 'white',\n",
    "            annot = True)\n",
    "plt.show()"
   ]
  },
  {
   "cell_type": "markdown",
   "metadata": {
    "id": "9Utg_vlq0Kuu"
   },
   "source": [
    "We see that amount, num_trans_60d, num_fraud_trans_24h, and num_trans_avg_amt_60d have the strongest correlation with the target variable is_fraud."
   ]
  },
  {
   "cell_type": "markdown",
   "metadata": {
    "id": "6I5dc0r6Lwb8"
   },
   "source": [
    "Since the dataset is large, we sample 1000 rows to obtain a pairplot."
   ]
  },
  {
   "cell_type": "code",
   "execution_count": null,
   "metadata": {
    "id": "1xfPdJUQ1t79"
   },
   "outputs": [],
   "source": [
    "sns.pairplot(df_numerical.sample(1000, random_state=0))\n",
    "plt.show()"
   ]
  },
  {
   "cell_type": "markdown",
   "metadata": {
    "id": "QUw-KHJ2k7GS"
   },
   "source": [
    "## Create topics\n",
    "\n",
    "Kafka records are stored in *topics* which can be thought of as data feeds that one can subscribe to.\n",
    "\n",
    "We shall create two topics to the Kafka platform.  \n",
    "\n",
    "- One with customer information (called *customerinfo*)\n",
    "- One with predictors that can be used for a fraud prediction algorithm (called *features*)"
   ]
  },
  {
   "cell_type": "code",
   "execution_count": null,
   "metadata": {
    "id": "gE5t92gmumtl"
   },
   "outputs": [],
   "source": [
    "!./kafka_2.13-3.7.0/bin/kafka-topics.sh --create --bootstrap-server 127.0.0.1:9092 --replication-factor 1 --partitions 2 --topic customerinfo\n",
    "!./kafka_2.13-3.7.0/bin/kafka-topics.sh --create --bootstrap-server 127.0.0.1:9092 --replication-factor 1 --partitions 1 --topic features\n"
   ]
  },
  {
   "cell_type": "markdown",
   "metadata": {
    "id": "InFNQJXcpN7d"
   },
   "source": [
    "View their details:"
   ]
  },
  {
   "cell_type": "code",
   "execution_count": null,
   "metadata": {
    "id": "kzNDHhEYuvjP"
   },
   "outputs": [],
   "source": [
    "!./kafka_2.13-3.7.0/bin/kafka-topics.sh --describe --bootstrap-server 127.0.0.1:9092 --topic customerinfo\n",
    "!./kafka_2.13-3.7.0/bin/kafka-topics.sh --describe --bootstrap-server 127.0.0.1:9092 --topic features"
   ]
  },
  {
   "cell_type": "markdown",
   "metadata": {
    "id": "nUsh8z9cxWvf"
   },
   "source": [
    "Next we create the records for these topics. The records need to be a list of key-value pairs. Here we will make the key the datetime (timestamp) of the transaction."
   ]
  },
  {
   "cell_type": "code",
   "execution_count": null,
   "metadata": {
    "id": "9wCULKHpvpnB"
   },
   "outputs": [],
   "source": [
    "timestamps = list(df['trans_datetime'][90000:].to_csv(index=False).split(\"\\n\"))\n",
    "X_kafka = list(df.drop(['trans_datetime'],axis=1)[90000:].to_csv(index=False).split(\"\\n\"))\n"
   ]
  },
  {
   "cell_type": "code",
   "execution_count": null,
   "metadata": {
    "id": "3JQYujDjTC-d"
   },
   "outputs": [],
   "source": [
    "predictors = ['amount', 'num_trans_60d', 'num_fraud_trans_24h', 'avg_trans_amt_60d']\n",
    "featuredata = list(df[predictors + ['is_fraud']][90000:].to_csv(index=False).split(\"\\n\"))"
   ]
  },
  {
   "cell_type": "code",
   "execution_count": null,
   "metadata": {
    "id": "gKokg5sRRT_9"
   },
   "outputs": [],
   "source": [
    "X_kafka"
   ]
  },
  {
   "cell_type": "code",
   "execution_count": null,
   "metadata": {
    "id": "4w_bJpc1x5J5"
   },
   "outputs": [],
   "source": [
    "featuredata"
   ]
  },
  {
   "cell_type": "markdown",
   "metadata": {
    "id": "jZa-6vgBRT9q"
   },
   "source": [
    "The following helper functions will help write messages into each topic."
   ]
  },
  {
   "cell_type": "code",
   "execution_count": null,
   "metadata": {
    "id": "z07yz7k9v9oF"
   },
   "outputs": [],
   "source": [
    "def error_callback(exc):\n",
    "    raise Exception('Error while sending data to kafka: {0}'.format(str(exc)))\n",
    "\n",
    "def write_to_kafka(topic_name, items):\n",
    "  count=0\n",
    "  producer = KafkaProducer(bootstrap_servers=['127.0.0.1:9092'])\n",
    "  for key, message in items:\n",
    "    producer.send(topic_name, key=key.encode('utf-8'),\n",
    "                  value=message.encode('utf-8')).add_errback(error_callback)\n",
    "    count+=1\n",
    "  producer.flush()\n",
    "  print(\"Wrote {0} messages into topic: {1}\".format(count, topic_name))"
   ]
  },
  {
   "cell_type": "markdown",
   "metadata": {
    "id": "fitUBSoTs5vT"
   },
   "source": [
    "To start with we write 5 messages to each topic."
   ]
  },
  {
   "cell_type": "code",
   "execution_count": null,
   "metadata": {
    "id": "ONUYkQDjwB1m"
   },
   "outputs": [],
   "source": [
    "write_to_kafka(\"customerinfo\", zip(timestamps[1:6], X_kafka[1:6]))\n",
    "write_to_kafka(\"features\", zip(timestamps[1:6], featuredata[1:6]))"
   ]
  },
  {
   "cell_type": "markdown",
   "metadata": {
    "id": "_SBpKdontJHH"
   },
   "source": [
    "The zip function pairs up the timestamps with data into tuples."
   ]
  },
  {
   "cell_type": "markdown",
   "metadata": {
    "id": "YsyUexVDEOeK"
   },
   "source": [
    "Run the following shell command to view one of the topics. You will need to interrupt execution of the cell after the five messages have appeared."
   ]
  },
  {
   "cell_type": "code",
   "execution_count": null,
   "metadata": {
    "id": "_mtPpoL0wEDf"
   },
   "outputs": [],
   "source": [
    "! /content/kafka_2.13-3.7.0/bin/kafka-console-consumer.sh \\\n",
    "--bootstrap-server localhost:9092 \\\n",
    "--topic features \\\n",
    "--from-beginning"
   ]
  },
  {
   "cell_type": "markdown",
   "metadata": {
    "id": "ngb07baxSt8D"
   },
   "source": [
    "## Subscribing to topics\n",
    "To start with we subscribe to both topics with the same consumer."
   ]
  },
  {
   "cell_type": "code",
   "execution_count": null,
   "metadata": {
    "id": "qwIIXEBOopF6"
   },
   "outputs": [],
   "source": [
    "kafka_bootstrap_servers = 'localhost:9092'\n",
    "topics = ['customerinfo', 'features']"
   ]
  },
  {
   "cell_type": "code",
   "execution_count": null,
   "metadata": {
    "id": "vwy8yum2Og9H"
   },
   "outputs": [],
   "source": [
    "consumer = KafkaConsumer(\n",
    "    *topics,\n",
    "    group_id = '104a',\n",
    "    bootstrap_servers=kafka_bootstrap_servers,\n",
    "    auto_offset_reset='earliest',\n",
    "    enable_auto_commit=True)"
   ]
  },
  {
   "cell_type": "code",
   "execution_count": null,
   "metadata": {
    "id": "PZ1EboF1F49_"
   },
   "outputs": [],
   "source": [
    "consumer.config"
   ]
  },
  {
   "cell_type": "markdown",
   "metadata": {
    "id": "1M2pZ1F7UDqK"
   },
   "source": [
    "The following cell shows the message, key and value of records obtained by the consumer. Stop running of the cell once ten messages have been displayed."
   ]
  },
  {
   "cell_type": "code",
   "execution_count": null,
   "metadata": {
    "id": "B1yrh4puEBfR"
   },
   "outputs": [],
   "source": [
    "for message in consumer:\n",
    "  print(\"message: \", message)\n",
    "  print(\"key: \", message.key)\n",
    "  print(\"value: \", message.value.decode('utf-8'))\n",
    "  time.sleep(2)"
   ]
  },
  {
   "cell_type": "markdown",
   "metadata": {
    "id": "4dIBvs7-U5fD"
   },
   "source": [
    "**Question**: In which order have the records come into the consumer and are the records sorted within each topic?"
   ]
  },
  {
   "cell_type": "markdown",
   "metadata": {
    "id": "cvsWSWGYVFdE"
   },
   "source": [
    "**Answer**:"
   ]
  },
  {
   "cell_type": "markdown",
   "metadata": {
    "id": "b556EKw9_I9z"
   },
   "source": [
    "For the next section we delete and recreate our topics, this time each with one partition."
   ]
  },
  {
   "cell_type": "code",
   "execution_count": null,
   "metadata": {
    "id": "VeqKo6fLO9mk"
   },
   "outputs": [],
   "source": [
    "!./kafka_2.13-3.7.0/bin/kafka-topics.sh --delete --bootstrap-server 127.0.0.1:9092 --topic customerinfo\n",
    "!./kafka_2.13-3.7.0/bin/kafka-topics.sh --delete --bootstrap-server 127.0.0.1:9092 --topic features\n"
   ]
  },
  {
   "cell_type": "code",
   "execution_count": null,
   "metadata": {
    "id": "977NgNYVUStL"
   },
   "outputs": [],
   "source": [
    "!./kafka_2.13-3.7.0/bin/kafka-topics.sh --create --bootstrap-server 127.0.0.1:9092 --replication-factor 1 --partitions 1 --topic customerinfo\n",
    "!./kafka_2.13-3.7.0/bin/kafka-topics.sh --create --bootstrap-server 127.0.0.1:9092 --replication-factor 1 --partitions 1 --topic features\n"
   ]
  },
  {
   "cell_type": "code",
   "execution_count": null,
   "metadata": {
    "id": "2Lm3i6tuUStN"
   },
   "outputs": [],
   "source": [
    "!./kafka_2.13-3.7.0/bin/kafka-topics.sh --describe --bootstrap-server 127.0.0.1:9092 --topic customerinfo\n",
    "!./kafka_2.13-3.7.0/bin/kafka-topics.sh --describe --bootstrap-server 127.0.0.1:9092 --topic features"
   ]
  },
  {
   "cell_type": "markdown",
   "metadata": {
    "id": "ozyiWyE-PFP7"
   },
   "source": [
    "## Creating a map showing the incoming stream"
   ]
  },
  {
   "cell_type": "markdown",
   "metadata": {
    "id": "XmmvLZctPiVv"
   },
   "source": [
    "This time we write more messages to each topic."
   ]
  },
  {
   "cell_type": "code",
   "execution_count": null,
   "metadata": {
    "id": "rEH8J7WmUtsn"
   },
   "outputs": [],
   "source": [
    "write_to_kafka(\"customerinfo\", zip(timestamps[1:], X_kafka[1:]))"
   ]
  },
  {
   "cell_type": "markdown",
   "metadata": {
    "id": "FrIVhkrOVX-E"
   },
   "source": [
    "**Exercise**: write featuredata[1:] to the topic \"features\""
   ]
  },
  {
   "cell_type": "code",
   "execution_count": null,
   "metadata": {
    "id": "_Bz2lT-T478e"
   },
   "outputs": [],
   "source": [
    "# ANSWER:\n"
   ]
  },
  {
   "cell_type": "code",
   "execution_count": null,
   "metadata": {
    "id": "jRy9jZP94Ilx"
   },
   "outputs": [],
   "source": [
    "consumer = KafkaConsumer(\n",
    "    'customerinfo',\n",
    "    group_id = '104a',\n",
    "    bootstrap_servers=kafka_bootstrap_servers,\n",
    "    auto_offset_reset='earliest',\n",
    "    enable_auto_commit=True)"
   ]
  },
  {
   "cell_type": "markdown",
   "metadata": {
    "id": "k1Vz9nAUQd0a"
   },
   "source": [
    "Run the following cell to see if the first 20 latitude and longitude values are accessible."
   ]
  },
  {
   "cell_type": "code",
   "execution_count": null,
   "metadata": {
    "id": "yy3lTBDH11rS"
   },
   "outputs": [],
   "source": [
    "df_received = pd.DataFrame(columns = ['lat', 'lon'])\n",
    "count = 0\n",
    "for message in consumer:\n",
    "  count = count + 1\n",
    "  x = re.split(r\",(?=(?:[^\\\"]*\\\"[^\\\"]*\\\")*[^\\\"]*$)\", message.value.decode('utf-8'))\n",
    "  #source: https://stackoverflow.com/questions/18893390/splitting-on-comma-outside-quotes\n",
    "  #this regular expression allows one to split the record only on commas occurring outside quote\n",
    "  #characters\n",
    "  df_received = pd.concat([df_received, pd.DataFrame({'lat': [x[11]], 'lon': [x[12]]})], ignore_index=True)\n",
    "  print(f\"lat = %s, lon = %s\" %  (x[11], x[12]))\n",
    "  time.sleep(1)\n",
    "  if count > 20:\n",
    "    break"
   ]
  },
  {
   "cell_type": "markdown",
   "metadata": {
    "id": "pdMIYIg8RJvV"
   },
   "source": [
    "Another way of getting records from the consumer is through the poll method:"
   ]
  },
  {
   "cell_type": "code",
   "execution_count": null,
   "metadata": {
    "id": "DRwULg8bjSTz"
   },
   "outputs": [],
   "source": [
    "latestrecord = consumer.poll(max_records = 1)"
   ]
  },
  {
   "cell_type": "code",
   "execution_count": null,
   "metadata": {
    "id": "qeJC2YMDjTtf"
   },
   "outputs": [],
   "source": [
    "latestrecord # one record should appear, if not rerun the above cell"
   ]
  },
  {
   "cell_type": "code",
   "execution_count": null,
   "metadata": {
    "id": "myaF6qetIh8z"
   },
   "outputs": [],
   "source": [
    "records = consumer.poll(max_records = 3)\n",
    "for tp, consumer_records in records.items():\n",
    "    for consumer_record in consumer_records:\n",
    "        print(\"offset: \", consumer_record.offset, \"record value: \",\n",
    "              consumer_record.value)"
   ]
  },
  {
   "cell_type": "markdown",
   "metadata": {
    "id": "r1angty4WBep"
   },
   "source": [
    "The following function obtains the latest record from *consumer*."
   ]
  },
  {
   "cell_type": "code",
   "execution_count": null,
   "metadata": {
    "id": "j0XB1TxlVuEB"
   },
   "outputs": [],
   "source": [
    "def get_latest_record():\n",
    "    global consumer\n",
    "\n",
    "    latestrecord = consumer.poll(max_records = 1)\n",
    "    for tp, consumer_record in latestrecord.items():\n",
    "      for message in consumer_record:\n",
    "        x = re.split(r\",(?=(?:[^\\\"]*\\\"[^\\\"]*\\\")*[^\\\"]*$)\", message.value.decode('utf-8'))\n",
    "\n",
    "        y = message.key.decode('utf-8')\n",
    "\n",
    "    return [y] + x\n"
   ]
  },
  {
   "cell_type": "markdown",
   "metadata": {
    "id": "H14l0x-HWteS"
   },
   "source": [
    "**Exercise**: run get_latest_record() a couple of times to verify that different records are obtained from the consumer each time."
   ]
  },
  {
   "cell_type": "code",
   "execution_count": null,
   "metadata": {
    "id": "yszoeo5C2hWs"
   },
   "outputs": [],
   "source": []
  },
  {
   "cell_type": "markdown",
   "metadata": {
    "id": "shdheJrjXB8s"
   },
   "source": [
    "Reinitialising the customerinfo *consumer*:"
   ]
  },
  {
   "cell_type": "code",
   "execution_count": null,
   "metadata": {
    "id": "AD85yfMf1qIz"
   },
   "outputs": [],
   "source": [
    "consumer = KafkaConsumer(\n",
    "    'customerinfo',\n",
    "    group_id = '104a',\n",
    "    bootstrap_servers=kafka_bootstrap_servers,\n",
    "    auto_offset_reset='earliest',\n",
    "    enable_auto_commit=True)"
   ]
  },
  {
   "cell_type": "markdown",
   "metadata": {
    "id": "ZHMEtm3RBR09"
   },
   "source": [
    "The following cell creates a dashboard app to display a map showing location of each customer Some additional data appears when hovering over a dot on the map."
   ]
  },
  {
   "cell_type": "code",
   "execution_count": null,
   "metadata": {
    "id": "W2Bz3AjbdeAV"
   },
   "outputs": [],
   "source": [
    "try:\n",
    "  del(trans_info)\n",
    "except:\n",
    "  pass\n",
    "\n",
    "trans_info = pd.DataFrame(columns = ['time', 'merchant', 'category', 'amount',\n",
    "                                      'city', 'lat', 'lon', 'text'])\n",
    "\n",
    "app = Dash(__name__)\n",
    "\n",
    "app.layout = html.Div([\n",
    "    dcc.Graph(id='demo-live'),\n",
    "    # every two seconds the layout updates:\n",
    "    dcc.Interval(id='output-update', interval=2*1000)\n",
    "])\n",
    "\n",
    "@app.callback(\n",
    "    Output(component_id='demo-live', component_property='figure'),\n",
    "    [Input(component_id='output-update', component_property='n_intervals')]\n",
    ")\n",
    "def get_live_updates(n_intervals):\n",
    "    global trans_info\n",
    "    newrow = get_latest_record() #newrow is a list\n",
    "\n",
    "    trans_info = pd.concat([trans_info, pd.DataFrame({\n",
    "        'time': [newrow[0]],\n",
    "        'merchant': [newrow[2]],\n",
    "        'category': [newrow[3]],\n",
    "        'amount': [newrow[4]],\n",
    "        'city': [newrow[9]],\n",
    "        'lat': [newrow[12]],\n",
    "        'lon': [newrow[13]],\n",
    "        'text': ['Time: ' + newrow[0] + '<br>Merchant: ' + newrow[2] \\\n",
    "        + '<br>Category: ' + newrow[3]\\\n",
    "        + '<br>Amount: ' + newrow[4] + '' + '<br>City: '\\\n",
    "        + newrow[9]]\n",
    "        })], ignore_index=True)\n",
    "\n",
    "    time.sleep(1)\n",
    "    df2 = trans_info.copy()\n",
    "\n",
    "    data=go.Scattergeo(\n",
    "          lon = df2['lon'],\n",
    "          lat = df2['lat'],\n",
    "          text = df2['text'],\n",
    "          locationmode = 'USA-states',\n",
    "          mode = 'markers',\n",
    "        )\n",
    "\n",
    "    layout = go.Layout(\n",
    "          autosize=False,\n",
    "          width=780,\n",
    "          height=500,\n",
    "          margin=dict(l=20, r=20, t=20, b=20),\n",
    "          paper_bgcolor='lightblue',\n",
    "          geo_scope='usa',\n",
    "          title_text='Locations of Transactions'\n",
    "        )\n",
    "    fig = {'data' : [data], 'layout' : layout}\n",
    "\n",
    "    return fig\n",
    "\n"
   ]
  },
  {
   "cell_type": "markdown",
   "metadata": {
    "id": "LQCQOasE26-0"
   },
   "source": [
    "Upon running the following code it may take a few moments for a map to appear. Hover your mouse over any of the dots to reveal more information. Aim to understand the workings of the previous cell."
   ]
  },
  {
   "cell_type": "code",
   "execution_count": null,
   "metadata": {
    "id": "4lNwG_4zTXNZ"
   },
   "outputs": [],
   "source": [
    "app.run() # run after a few seconds"
   ]
  },
  {
   "cell_type": "markdown",
   "metadata": {
    "id": "bK4ezf4KBDau"
   },
   "source": [
    "While the app is running, run the following cell several times to verify that data is streaming into the consumer."
   ]
  },
  {
   "cell_type": "code",
   "execution_count": null,
   "metadata": {
    "id": "COt462jYenL1"
   },
   "outputs": [],
   "source": [
    "trans_info.tail()"
   ]
  },
  {
   "cell_type": "markdown",
   "metadata": {
    "id": "Kgmhb6J_3uW2"
   },
   "source": [
    "If there's a need to restart the consumer (e.g. a heartbeat failed warning appears because it is rebalancing), one can run consumer.close() and then recreate the consumer."
   ]
  },
  {
   "cell_type": "markdown",
   "metadata": {
    "id": "4XIjhzGztUAp"
   },
   "source": [
    "## Live predictions"
   ]
  },
  {
   "cell_type": "markdown",
   "metadata": {
    "id": "RiIbJkaD62lz"
   },
   "source": [
    "Finally we use the features topic to make fraud predictions on the fly with a trained classification model.\n",
    "\n",
    "We use the first 90000 records of df as the training set."
   ]
  },
  {
   "cell_type": "code",
   "execution_count": null,
   "metadata": {
    "id": "PbFePZ7-uV3E"
   },
   "outputs": [],
   "source": [
    "X_train = df[predictors][:90000]\n",
    "y_train = df['is_fraud'][:90000]"
   ]
  },
  {
   "cell_type": "markdown",
   "metadata": {
    "id": "M-qv94EHYjhk"
   },
   "source": [
    "**Exercise**: Fit a classification model to X_train, y_train and score it. (For this lab it does not matter how well or poorly the model performs.)"
   ]
  },
  {
   "cell_type": "code",
   "execution_count": null,
   "metadata": {
    "id": "87o8ayslvr3F"
   },
   "outputs": [],
   "source": [
    "# ANSWER\n"
   ]
  },
  {
   "cell_type": "markdown",
   "metadata": {
    "id": "X8mLXfbvxMRl"
   },
   "source": [
    "Subscribe to the topic containing the predictors and perform live predictions."
   ]
  },
  {
   "cell_type": "code",
   "execution_count": null,
   "metadata": {
    "id": "XhGZgQaByiAN"
   },
   "outputs": [],
   "source": [
    "feature_consumer = KafkaConsumer(\n",
    "    'features',\n",
    "    group_id = '104b',\n",
    "    bootstrap_servers=kafka_bootstrap_servers,\n",
    "    auto_offset_reset='earliest',\n",
    "    enable_auto_commit=True)"
   ]
  },
  {
   "cell_type": "code",
   "execution_count": null,
   "metadata": {
    "id": "wTfp__j_27Gc"
   },
   "outputs": [],
   "source": [
    "def get_latest_customer_features():\n",
    "    global feature_consumer\n",
    "\n",
    "    latestrecord = feature_consumer.poll(max_records = 1)\n",
    "    for tp, consumer_record in latestrecord.items():\n",
    "      for message in consumer_record:\n",
    "        x = re.split(r\",\", message.value.decode('utf-8'))\n",
    "        y = message.key.decode('utf-8')\n",
    "\n",
    "    return [y] + x"
   ]
  },
  {
   "cell_type": "code",
   "execution_count": null,
   "metadata": {
    "id": "WwkqBSa73K80"
   },
   "outputs": [],
   "source": [
    "get_latest_customer_features() #may need to wait a few moments before the consumer is ready"
   ]
  },
  {
   "cell_type": "markdown",
   "metadata": {
    "id": "Vxx0v8siZh0V"
   },
   "source": [
    "The following is a function to be used in our next dashboard to output the type of predicted result (True/False Positives, True/False Negatives):"
   ]
  },
  {
   "cell_type": "code",
   "execution_count": null,
   "metadata": {
    "id": "iBX6uMW_lz6c"
   },
   "outputs": [],
   "source": [
    "def prediction_result(predicted_outcome, actual_outcome):\n",
    "  # predicted   actual    output\n",
    "  #    0           0        TN\n",
    "  #    0           1        FN\n",
    "  #    1           0        FP\n",
    "  #    1           1        TP\n",
    "\n",
    "  key = predicted_outcome*2 + actual_outcome\n",
    "  mappingdict = {0: 'TN', 1: 'FN', 2: 'FP', 3: 'TP'}\n",
    "  return mappingdict[key]"
   ]
  },
  {
   "cell_type": "code",
   "execution_count": null,
   "metadata": {
    "id": "nkdisgd65UmO"
   },
   "outputs": [],
   "source": [
    "try:\n",
    "  del(df_preds)\n",
    "except:\n",
    "  pass\n",
    "df_preds = pd.DataFrame(columns = ['datetime'] + predictors +\n",
    "                        ['predicted_output', 'actual_output', 'result'])"
   ]
  },
  {
   "cell_type": "markdown",
   "metadata": {
    "id": "VF3Z4MU7aFM-"
   },
   "source": [
    "**Exercise**: The next cell creates a dashboard showing predictions made live. Fill in the missing code to generate predicted output based on your trained model."
   ]
  },
  {
   "cell_type": "code",
   "execution_count": null,
   "metadata": {
    "id": "XunkNKYdHbpB"
   },
   "outputs": [],
   "source": [
    "app = Dash(__name__)\n",
    "\n",
    "app.layout = html.Div([\n",
    "    dcc.Graph(id='demo-live'),\n",
    "    ## for every 2 secs the layout updates\n",
    "    dcc.Interval(id='output-update', interval=2*1000)\n",
    "])\n",
    "\n",
    "@app.callback(\n",
    "    Output(component_id='demo-live', component_property='figure'),\n",
    "    [Input(component_id='output-update', component_property='n_intervals')]\n",
    ")\n",
    "def get_live_updates(n_intervals):\n",
    "    global df_preds\n",
    "    newrow = get_latest_customer_features()\n",
    "    predicted_output = int(#--complete code--#)\n",
    "    df_preds = pd.concat([df_preds, pd.DataFrame({'datetime': [newrow[0]],\n",
    "                               'amount': [newrow[1]],\n",
    "                               'num_trans_60d': [newrow[2]],\n",
    "                               'num_fraud_trans_24h': [newrow[3]],\n",
    "                               'avg_trans_amt_60d': [newrow[4]],\n",
    "                               'predicted_output': [predicted_output],\n",
    "                               'actual_output': [newrow[5]],\n",
    "                               'result': [prediction_result(int(predicted_output),\n",
    "                                                           int(newrow[5]))]})],\n",
    "                               ignore_index=True)\n",
    "\n",
    "    time.sleep(1)\n",
    "    df2 = df_preds.copy()\n",
    "    last20 = df2.tail(20)\n",
    "\n",
    "    fig = make_subplots(\n",
    "      rows=2, cols=2,\n",
    "      row_heights=[0.1, 0.9],\n",
    "      column_widths=[0.5, 0.5],\n",
    "      specs=[[{\"type\": \"Table\", \"colspan\": 2}, None],\n",
    "             [{\"type\": \"Histogram\"}, {\"type\": \"Table\"}]]\n",
    "             )\n",
    "\n",
    "    fig.add_trace(\n",
    "        go.Table(\n",
    "            header=dict(\n",
    "                values=[\"False Positive Count\", \"False Negative Count\"],\n",
    "                font=dict(size=14),\n",
    "                align=\"center\"\n",
    "            ),\n",
    "            cells=dict(\n",
    "                values=[sum(df_preds['result'] == 'FP'),\n",
    "                        sum(df_preds['result'] == 'FN')],\n",
    "            align = \"center\"),\n",
    "            columnwidth = [.5, .5]\n",
    "        ),\n",
    "        row=1, col=1\n",
    "    )\n",
    "\n",
    "    fig.add_trace(\n",
    "      go.Histogram(x=df2['amount'].astype(float),\n",
    "                 xbins = dict(start = 0, end=500, size=20)\n",
    "                 ),\n",
    "      row=2, col=1\n",
    "    )\n",
    "    fig.update_xaxes(title_text=\"Amount Spent\", row=2, col=1)\n",
    "    fig.update_yaxes(title_text=\"Count\", row=2, col=1)\n",
    "\n",
    "    fig.add_trace(\n",
    "      go.Table(\n",
    "        header=dict(\n",
    "            values=[\"Datetime\", \"Predicted Outcome\", \"Actual Outcome\",\n",
    "                    \"Result\"],\n",
    "            font=dict(size=14),\n",
    "            align=\"center\"\n",
    "        ),\n",
    "        cells=dict(\n",
    "            values=[last20['datetime'], last20['predicted_output'],\n",
    "                              last20['actual_output'], last20['result']],\n",
    "            align = \"center\"),\n",
    "        columnwidth = [.27, .27, .27, .19]\n",
    "      ),\n",
    "    row=2, col=2\n",
    "    )\n",
    "    fig.update_layout(\n",
    "    height=800,\n",
    "    showlegend=False,\n",
    "    title_text=\"Live Results\",\n",
    "    )\n",
    "    return fig"
   ]
  },
  {
   "cell_type": "code",
   "execution_count": null,
   "metadata": {
    "id": "sl68stEkA1JG"
   },
   "outputs": [],
   "source": [
    "app.run()"
   ]
  },
  {
   "cell_type": "markdown",
   "metadata": {
    "id": "VFf2wf39Rkjm"
   },
   "source": [
    "**Exercise**: While the app is running verify that df_preds is being modified."
   ]
  },
  {
   "cell_type": "code",
   "execution_count": null,
   "metadata": {
    "id": "RlQn6TALa0SC"
   },
   "outputs": [],
   "source": []
  },
  {
   "cell_type": "markdown",
   "metadata": {
    "id": "uayokLMZa8-A"
   },
   "source": [
    "## Conclusion\n",
    "We have implemented a simple Kakfa streaming platform to which we published to topics - one with customer information, the other a subset of that to make fraud predictions. With the first topic we generated a live map showing the locations of customers, in the other we created a live predictive model scoring dashboard."
   ]
  },
  {
   "cell_type": "markdown",
   "metadata": {
    "id": "W32tNIdCIFvO"
   },
   "source": [
    "\n",
    "\n",
    "---\n",
    "\n",
    "\n",
    "\n",
    "---\n",
    "\n",
    "\n",
    "\n",
    "> > > > > > > > > © 2024 Institute of Data\n",
    "\n",
    "\n",
    "---\n",
    "\n",
    "\n",
    "\n",
    "---\n",
    "\n",
    "\n",
    "\n"
   ]
  }
 ],
 "metadata": {
  "colab": {
   "provenance": []
  },
  "kernelspec": {
   "display_name": "Python 3 (ipykernel)",
   "language": "python",
   "name": "python3"
  },
  "language_info": {
   "codemirror_mode": {
    "name": "ipython",
    "version": 3
   },
   "file_extension": ".py",
   "mimetype": "text/x-python",
   "name": "python",
   "nbconvert_exporter": "python",
   "pygments_lexer": "ipython3",
   "version": "3.12.5"
  }
 },
 "nbformat": 4,
 "nbformat_minor": 4
}
