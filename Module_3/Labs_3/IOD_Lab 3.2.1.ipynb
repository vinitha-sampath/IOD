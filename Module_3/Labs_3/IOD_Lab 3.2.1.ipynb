{
 "cells": [
  {
   "cell_type": "markdown",
   "metadata": {
    "id": "fneIB8BIGtiY"
   },
   "source": [
    "<div>\n",
    "<img src=https://www.institutedata.com/wp-content/uploads/2019/10/iod_h_tp_primary_c.svg width=\"300\">\n",
    "</div>"
   ]
  },
  {
   "cell_type": "markdown",
   "metadata": {
    "id": "rdipUchUGtih"
   },
   "source": [
    "# Lab 3.2.1\n",
    "# *Querying the International Space Station*"
   ]
  },
  {
   "cell_type": "markdown",
   "metadata": {
    "id": "b2RLpeJNGtil"
   },
   "source": [
    "## The OpenNotify API"
   ]
  },
  {
   "cell_type": "markdown",
   "metadata": {
    "id": "rrunXmMNGtip"
   },
   "source": [
    "The OpenNotify API exposes a few attributes of the International Space Station (ISS) via a simple, authentication-free interface. The simplicity of this API precludes any need for a dedicated Python library. However, as with many APIs, it accepts requests according to HTTP standards and returns responses in JSON format, so the Python libraries request and json will make managing the I/O simpler still."
   ]
  },
  {
   "cell_type": "code",
   "execution_count": 1,
   "metadata": {
    "id": "xz4PaIIjGtis"
   },
   "outputs": [],
   "source": [
    "import requests\n",
    "import json\n",
    "from datetime import datetime, date, time"
   ]
  },
  {
   "cell_type": "markdown",
   "metadata": {
    "id": "tE2vsQo3Gti0"
   },
   "source": [
    "This request fetches the latest position of the international space station:"
   ]
  },
  {
   "cell_type": "code",
   "execution_count": 2,
   "metadata": {
    "id": "bXBJ6YSPGti3"
   },
   "outputs": [],
   "source": [
    "response = requests.get(\"http://api.open-notify.org/iss-now.json\") "
   ]
  },
  {
   "cell_type": "markdown",
   "metadata": {
    "id": "wTbnWjPGGti-"
   },
   "source": [
    "Print the status code and text of the response:"
   ]
  },
  {
   "cell_type": "code",
   "execution_count": 3,
   "metadata": {
    "colab": {
     "base_uri": "https://localhost:8080/"
    },
    "executionInfo": {
     "elapsed": 349,
     "status": "ok",
     "timestamp": 1656486719496,
     "user": {
      "displayName": "Muru Raj",
      "userId": "16263509272652930332"
     },
     "user_tz": -480
    },
    "id": "_I6hU3-AGtjA",
    "outputId": "063d1285-3a8f-409a-aed5-76511912fb1c"
   },
   "outputs": [
    {
     "data": {
      "text/plain": [
       "200"
      ]
     },
     "execution_count": 3,
     "metadata": {},
     "output_type": "execute_result"
    }
   ],
   "source": [
    "#ANSWER\n",
    "response.status_code"
   ]
  },
  {
   "cell_type": "code",
   "execution_count": 4,
   "metadata": {
    "colab": {
     "base_uri": "https://localhost:8080/"
    },
    "executionInfo": {
     "elapsed": 324,
     "status": "ok",
     "timestamp": 1656486759324,
     "user": {
      "displayName": "Muru Raj",
      "userId": "16263509272652930332"
     },
     "user_tz": -480
    },
    "id": "-WdeRA2iTYNy",
    "outputId": "ce58f787-ddf2-41e3-fa25-169380a569f6"
   },
   "outputs": [
    {
     "name": "stdout",
     "output_type": "stream",
     "text": [
      "{\"iss_position\": {\"latitude\": \"-44.2635\", \"longitude\": \"-119.4753\"}, \"message\": \"success\", \"timestamp\": 1722246860}\n"
     ]
    }
   ],
   "source": [
    "#ANSWER\n",
    "print(response.text)"
   ]
  },
  {
   "cell_type": "markdown",
   "metadata": {
    "id": "eiziNer-GtjF"
   },
   "source": [
    "We can use another API to request the current position of the ISS and the next few times at which it will be over a certain location. The latitude and longitude of Sydney are (-33.87, 151.21)."
   ]
  },
  {
   "cell_type": "code",
   "execution_count": 5,
   "metadata": {
    "id": "2XZ-ygFkGtjH"
   },
   "outputs": [],
   "source": [
    "response = requests.get(\"https://api.g7vrd.co.uk/v1/satellite-passes/25544/-33.87/151.21.json?minelevation=0&hours=24\")"
   ]
  },
  {
   "cell_type": "markdown",
   "metadata": {
    "id": "aEl3pwmHGtjN"
   },
   "source": [
    "Print the response header:"
   ]
  },
  {
   "cell_type": "code",
   "execution_count": 6,
   "metadata": {
    "id": "6rsz7gwbGtjP"
   },
   "outputs": [
    {
     "name": "stdout",
     "output_type": "stream",
     "text": [
      "{'Date': 'Mon, 29 Jul 2024 09:54:24 GMT', 'Server': 'Apache', 'Vary': 'Origin,Access-Control-Request-Method,Access-Control-Request-Headers', 'Access-Control-Allow-Origin': '*', 'X-Content-Type-Options': 'nosniff', 'X-XSS-Protection': '0', 'Cache-Control': 'no-cache, no-store, max-age=0, must-revalidate', 'Pragma': 'no-cache', 'Expires': '0', 'X-Frame-Options': 'DENY', 'Content-Type': 'application/json', 'Keep-Alive': 'timeout=5, max=100', 'Connection': 'Keep-Alive', 'Transfer-Encoding': 'chunked'}\n"
     ]
    }
   ],
   "source": [
    "#ANSWER\n",
    "print(response.headers)"
   ]
  },
  {
   "cell_type": "markdown",
   "metadata": {
    "id": "W6tqlzySGtjR"
   },
   "source": [
    "Print the content of the response (the data that the server returned):"
   ]
  },
  {
   "cell_type": "code",
   "execution_count": 7,
   "metadata": {
    "id": "HbxepzDZGtjS"
   },
   "outputs": [
    {
     "name": "stdout",
     "output_type": "stream",
     "text": [
      "b'{\"api_status\":\"ALPHA\",\"request_timestamp\":\"2024-07-29T09:54:24.224201136Z\",\"norad_id\":25544,\"satellite_name\":\"ISS\",\"tle_last_retrieved\":\"2024-07-28T22:42:18.680915784Z\",\"lat\":-33.87,\"lon\":151.21,\"hours\":24,\"min_elevation\":0,\"query_ms\":16,\"passes\":[{\"start\":\"2024-07-29T12:48:34.208Z\",\"tca\":\"2024-07-29T12:52:04.208Z\",\"end\":\"2024-07-29T12:55:24.208Z\",\"aos_azimuth\":18,\"los_azimuth\":97,\"max_elevation\":5.0},{\"start\":\"2024-07-29T14:22:39.208Z\",\"tca\":\"2024-07-29T14:28:09.208Z\",\"end\":\"2024-07-29T14:33:39.208Z\",\"aos_azimuth\":316,\"los_azimuth\":132,\"max_elevation\":78.0},{\"start\":\"2024-07-29T16:00:29.208Z\",\"tca\":\"2024-07-29T16:04:59.208Z\",\"end\":\"2024-07-29T16:09:59.208Z\",\"aos_azimuth\":267,\"los_azimuth\":148,\"max_elevation\":13.0},{\"start\":\"2024-07-29T17:40:14.208Z\",\"tca\":\"2024-07-29T17:43:14.208Z\",\"end\":\"2024-07-29T17:46:24.208Z\",\"aos_azimuth\":222,\"los_azimuth\":153,\"max_elevation\":4.0},{\"start\":\"2024-07-29T19:18:19.208Z\",\"tca\":\"2024-07-29T19:21:49.208Z\",\"end\":\"2024-07-29T19:25:14.208Z\",\"aos_azimuth\":205,\"los_azimuth\":127,\"max_elevation\":5.0},{\"start\":\"2024-07-29T20:54:39.208Z\",\"tca\":\"2024-07-29T20:59:39.208Z\",\"end\":\"2024-07-29T21:04:49.208Z\",\"aos_azimuth\":213,\"los_azimuth\":80,\"max_elevation\":19.0},{\"start\":\"2024-07-29T22:31:09.208Z\",\"tca\":\"2024-07-29T22:36:39.208Z\",\"end\":\"2024-07-29T22:41:59.208Z\",\"aos_azimuth\":233,\"los_azimuth\":31,\"max_elevation\":42.0},{\"start\":\"2024-07-30T00:11:04.208Z\",\"tca\":\"2024-07-30T00:12:34.208Z\",\"end\":\"2024-07-30T00:13:59.208Z\",\"aos_azimuth\":285,\"los_azimuth\":316,\"max_elevation\":1.0},{\"start\":\"2024-07-30T13:34:04.208Z\",\"tca\":\"2024-07-30T13:39:04.208Z\",\"end\":\"2024-07-30T13:44:44.208Z\",\"aos_azimuth\":330,\"los_azimuth\":125,\"max_elevation\":38.0}]}'\n"
     ]
    }
   ],
   "source": [
    "#ANSWER\n",
    "print(response.content)"
   ]
  },
  {
   "cell_type": "markdown",
   "metadata": {
    "id": "N7tHPQzDGtjU"
   },
   "source": [
    "Note that this is a Python byte string:"
   ]
  },
  {
   "cell_type": "code",
   "execution_count": 8,
   "metadata": {
    "id": "k8AMo0yWGtjV"
   },
   "outputs": [
    {
     "name": "stdout",
     "output_type": "stream",
     "text": [
      "<class 'bytes'>\n"
     ]
    }
   ],
   "source": [
    "print(type(response.content))"
   ]
  },
  {
   "cell_type": "markdown",
   "metadata": {
    "id": "5tvv9ht_GtjX"
   },
   "source": [
    "Print just the \"content-type\" value from the header:"
   ]
  },
  {
   "cell_type": "code",
   "execution_count": 9,
   "metadata": {
    "id": "nxWxxLI7GtjX"
   },
   "outputs": [
    {
     "name": "stdout",
     "output_type": "stream",
     "text": [
      "application/json\n"
     ]
    }
   ],
   "source": [
    "#ANSWER\n",
    "print(response.headers['content-type'])"
   ]
  },
  {
   "cell_type": "markdown",
   "metadata": {
    "id": "7lPlgn_hGtjZ"
   },
   "source": [
    "JSON was designed to be easy for computers to read, not for people. The `requests` library can decode the JSON byte string:"
   ]
  },
  {
   "cell_type": "code",
   "execution_count": 10,
   "metadata": {
    "id": "nGVtgDaqGtja"
   },
   "outputs": [
    {
     "name": "stdout",
     "output_type": "stream",
     "text": [
      "{'api_status': 'ALPHA', 'request_timestamp': '2024-07-29T09:54:24.224201136Z', 'norad_id': 25544, 'satellite_name': 'ISS', 'tle_last_retrieved': '2024-07-28T22:42:18.680915784Z', 'lat': -33.87, 'lon': 151.21, 'hours': 24, 'min_elevation': 0, 'query_ms': 16, 'passes': [{'start': '2024-07-29T12:48:34.208Z', 'tca': '2024-07-29T12:52:04.208Z', 'end': '2024-07-29T12:55:24.208Z', 'aos_azimuth': 18, 'los_azimuth': 97, 'max_elevation': 5.0}, {'start': '2024-07-29T14:22:39.208Z', 'tca': '2024-07-29T14:28:09.208Z', 'end': '2024-07-29T14:33:39.208Z', 'aos_azimuth': 316, 'los_azimuth': 132, 'max_elevation': 78.0}, {'start': '2024-07-29T16:00:29.208Z', 'tca': '2024-07-29T16:04:59.208Z', 'end': '2024-07-29T16:09:59.208Z', 'aos_azimuth': 267, 'los_azimuth': 148, 'max_elevation': 13.0}, {'start': '2024-07-29T17:40:14.208Z', 'tca': '2024-07-29T17:43:14.208Z', 'end': '2024-07-29T17:46:24.208Z', 'aos_azimuth': 222, 'los_azimuth': 153, 'max_elevation': 4.0}, {'start': '2024-07-29T19:18:19.208Z', 'tca': '2024-07-29T19:21:49.208Z', 'end': '2024-07-29T19:25:14.208Z', 'aos_azimuth': 205, 'los_azimuth': 127, 'max_elevation': 5.0}, {'start': '2024-07-29T20:54:39.208Z', 'tca': '2024-07-29T20:59:39.208Z', 'end': '2024-07-29T21:04:49.208Z', 'aos_azimuth': 213, 'los_azimuth': 80, 'max_elevation': 19.0}, {'start': '2024-07-29T22:31:09.208Z', 'tca': '2024-07-29T22:36:39.208Z', 'end': '2024-07-29T22:41:59.208Z', 'aos_azimuth': 233, 'los_azimuth': 31, 'max_elevation': 42.0}, {'start': '2024-07-30T00:11:04.208Z', 'tca': '2024-07-30T00:12:34.208Z', 'end': '2024-07-30T00:13:59.208Z', 'aos_azimuth': 285, 'los_azimuth': 316, 'max_elevation': 1.0}, {'start': '2024-07-30T13:34:04.208Z', 'tca': '2024-07-30T13:39:04.208Z', 'end': '2024-07-30T13:44:44.208Z', 'aos_azimuth': 330, 'los_azimuth': 125, 'max_elevation': 38.0}]}\n"
     ]
    }
   ],
   "source": [
    "overheads = response.json()\n",
    "print(overheads)"
   ]
  },
  {
   "cell_type": "markdown",
   "metadata": {
    "id": "l9GOdNK5Gtjc"
   },
   "source": [
    "What kind of object did this give us?"
   ]
  },
  {
   "cell_type": "code",
   "execution_count": 11,
   "metadata": {
    "id": "JBS4nRmSGtjd"
   },
   "outputs": [
    {
     "name": "stdout",
     "output_type": "stream",
     "text": [
      "<class 'dict'>\n"
     ]
    }
   ],
   "source": [
    "#ANSWER:\n",
    "print(type(overheads))"
   ]
  },
  {
   "cell_type": "markdown",
   "metadata": {
    "id": "2ZYJabXQGtjg"
   },
   "source": [
    "Python dicts are easier to work with, but the data we want is still buried in that data structure, so we have to dig it out. First, extract the `passes` value to a separate list:"
   ]
  },
  {
   "cell_type": "code",
   "execution_count": 12,
   "metadata": {
    "id": "0u8LZg4dGtjh"
   },
   "outputs": [],
   "source": [
    "#ANSWER:\n",
    "passes = overheads['passes']"
   ]
  },
  {
   "cell_type": "code",
   "execution_count": 13,
   "metadata": {},
   "outputs": [
    {
     "data": {
      "text/plain": [
       "[{'start': '2024-07-29T12:48:34.208Z',\n",
       "  'tca': '2024-07-29T12:52:04.208Z',\n",
       "  'end': '2024-07-29T12:55:24.208Z',\n",
       "  'aos_azimuth': 18,\n",
       "  'los_azimuth': 97,\n",
       "  'max_elevation': 5.0},\n",
       " {'start': '2024-07-29T14:22:39.208Z',\n",
       "  'tca': '2024-07-29T14:28:09.208Z',\n",
       "  'end': '2024-07-29T14:33:39.208Z',\n",
       "  'aos_azimuth': 316,\n",
       "  'los_azimuth': 132,\n",
       "  'max_elevation': 78.0},\n",
       " {'start': '2024-07-29T16:00:29.208Z',\n",
       "  'tca': '2024-07-29T16:04:59.208Z',\n",
       "  'end': '2024-07-29T16:09:59.208Z',\n",
       "  'aos_azimuth': 267,\n",
       "  'los_azimuth': 148,\n",
       "  'max_elevation': 13.0},\n",
       " {'start': '2024-07-29T17:40:14.208Z',\n",
       "  'tca': '2024-07-29T17:43:14.208Z',\n",
       "  'end': '2024-07-29T17:46:24.208Z',\n",
       "  'aos_azimuth': 222,\n",
       "  'los_azimuth': 153,\n",
       "  'max_elevation': 4.0},\n",
       " {'start': '2024-07-29T19:18:19.208Z',\n",
       "  'tca': '2024-07-29T19:21:49.208Z',\n",
       "  'end': '2024-07-29T19:25:14.208Z',\n",
       "  'aos_azimuth': 205,\n",
       "  'los_azimuth': 127,\n",
       "  'max_elevation': 5.0},\n",
       " {'start': '2024-07-29T20:54:39.208Z',\n",
       "  'tca': '2024-07-29T20:59:39.208Z',\n",
       "  'end': '2024-07-29T21:04:49.208Z',\n",
       "  'aos_azimuth': 213,\n",
       "  'los_azimuth': 80,\n",
       "  'max_elevation': 19.0},\n",
       " {'start': '2024-07-29T22:31:09.208Z',\n",
       "  'tca': '2024-07-29T22:36:39.208Z',\n",
       "  'end': '2024-07-29T22:41:59.208Z',\n",
       "  'aos_azimuth': 233,\n",
       "  'los_azimuth': 31,\n",
       "  'max_elevation': 42.0},\n",
       " {'start': '2024-07-30T00:11:04.208Z',\n",
       "  'tca': '2024-07-30T00:12:34.208Z',\n",
       "  'end': '2024-07-30T00:13:59.208Z',\n",
       "  'aos_azimuth': 285,\n",
       "  'los_azimuth': 316,\n",
       "  'max_elevation': 1.0},\n",
       " {'start': '2024-07-30T13:34:04.208Z',\n",
       "  'tca': '2024-07-30T13:39:04.208Z',\n",
       "  'end': '2024-07-30T13:44:44.208Z',\n",
       "  'aos_azimuth': 330,\n",
       "  'los_azimuth': 125,\n",
       "  'max_elevation': 38.0}]"
      ]
     },
     "execution_count": 13,
     "metadata": {},
     "output_type": "execute_result"
    }
   ],
   "source": [
    "passes"
   ]
  },
  {
   "cell_type": "markdown",
   "metadata": {
    "id": "hMHzLrfoGtjj"
   },
   "source": [
    "Now extract the `start` strings into an array called `srisetimes`:"
   ]
  },
  {
   "cell_type": "code",
   "execution_count": 14,
   "metadata": {
    "id": "nXqJ8_F2Gtjj"
   },
   "outputs": [],
   "source": [
    "#ANSWER:\n",
    "srisetimes = [xpass['start']for xpass in passes]"
   ]
  },
  {
   "cell_type": "code",
   "execution_count": 15,
   "metadata": {},
   "outputs": [
    {
     "data": {
      "text/plain": [
       "['2024-07-29T12:48:34.208Z',\n",
       " '2024-07-29T14:22:39.208Z',\n",
       " '2024-07-29T16:00:29.208Z',\n",
       " '2024-07-29T17:40:14.208Z',\n",
       " '2024-07-29T19:18:19.208Z',\n",
       " '2024-07-29T20:54:39.208Z',\n",
       " '2024-07-29T22:31:09.208Z',\n",
       " '2024-07-30T00:11:04.208Z',\n",
       " '2024-07-30T13:34:04.208Z']"
      ]
     },
     "execution_count": 15,
     "metadata": {},
     "output_type": "execute_result"
    }
   ],
   "source": [
    "srisetimes"
   ]
  },
  {
   "cell_type": "markdown",
   "metadata": {
    "id": "RItuBRt-Gtjl"
   },
   "source": [
    "These are strings. We convert these to an array of Python `datetime` values called `risetimes`:"
   ]
  },
  {
   "cell_type": "code",
   "execution_count": 16,
   "metadata": {
    "id": "8rzyAcLTGtjm"
   },
   "outputs": [
    {
     "data": {
      "text/plain": [
       "[datetime.datetime(2024, 7, 29, 12, 48, 34, 208000),\n",
       " datetime.datetime(2024, 7, 29, 14, 22, 39, 208000),\n",
       " datetime.datetime(2024, 7, 29, 16, 0, 29, 208000),\n",
       " datetime.datetime(2024, 7, 29, 17, 40, 14, 208000),\n",
       " datetime.datetime(2024, 7, 29, 19, 18, 19, 208000),\n",
       " datetime.datetime(2024, 7, 29, 20, 54, 39, 208000),\n",
       " datetime.datetime(2024, 7, 29, 22, 31, 9, 208000),\n",
       " datetime.datetime(2024, 7, 30, 0, 11, 4, 208000),\n",
       " datetime.datetime(2024, 7, 30, 13, 34, 4, 208000)]"
      ]
     },
     "execution_count": 16,
     "metadata": {},
     "output_type": "execute_result"
    }
   ],
   "source": [
    "risetimes = [datetime.strptime(xpass['start'], \"%Y-%m-%dT%H:%M:%S.%fZ\") for xpass in passes]\n",
    "risetimes"
   ]
  },
  {
   "cell_type": "markdown",
   "metadata": {
    "id": "l1EmKOFqGtjn"
   },
   "source": [
    "Finally, use `risetime.strftime` to print these in a format that people understand:\n",
    "\n",
    "```\n",
    "e.g.\n",
    "18/10/22 07:05\n",
    "18/10/22 08:41\n",
    "18/10/22 10:20\n",
    "18/10/22 12:00\n",
    "18/10/22 01:37\n",
    "18/10/22 03:13\n",
    "```\n",
    "\n"
   ]
  },
  {
   "cell_type": "code",
   "execution_count": 17,
   "metadata": {
    "id": "AkBE76VqGtjo"
   },
   "outputs": [
    {
     "name": "stdout",
     "output_type": "stream",
     "text": [
      "29-07-24 12:48\n",
      "29-07-24 02:22\n",
      "29-07-24 04:00\n",
      "29-07-24 05:40\n",
      "29-07-24 07:18\n",
      "29-07-24 08:54\n",
      "29-07-24 10:31\n",
      "30-07-24 12:11\n",
      "30-07-24 01:34\n"
     ]
    }
   ],
   "source": [
    "#ANSWER:\n",
    "for risetime in risetimes:\n",
    "    print(risetime.strftime(\"%d-%m-%y %I:%M\"))"
   ]
  },
  {
   "cell_type": "markdown",
   "metadata": {
    "id": "iNm6GjX3Gtjq"
   },
   "source": [
    "Finally, here is an endpoint that tells us who is on board:"
   ]
  },
  {
   "cell_type": "code",
   "execution_count": 18,
   "metadata": {
    "id": "12yXs_OgGtjs"
   },
   "outputs": [],
   "source": [
    "response = requests.get(\"http://api.open-notify.org/astros.json\")"
   ]
  },
  {
   "cell_type": "code",
   "execution_count": 19,
   "metadata": {},
   "outputs": [
    {
     "name": "stdout",
     "output_type": "stream",
     "text": [
      "<Response [200]>\n"
     ]
    }
   ],
   "source": [
    "print(response)"
   ]
  },
  {
   "cell_type": "markdown",
   "metadata": {
    "id": "0Np4S0aAGtj0"
   },
   "source": [
    "Referring to the methods used above, extract the number of astronauts and their names:"
   ]
  },
  {
   "cell_type": "code",
   "execution_count": 20,
   "metadata": {
    "id": "Oqx5L19_Gtj1"
   },
   "outputs": [
    {
     "data": {
      "text/plain": [
       "b'{\"people\": [{\"craft\": \"ISS\", \"name\": \"Oleg Kononenko\"}, {\"craft\": \"ISS\", \"name\": \"Nikolai Chub\"}, {\"craft\": \"ISS\", \"name\": \"Tracy Caldwell Dyson\"}, {\"craft\": \"ISS\", \"name\": \"Matthew Dominick\"}, {\"craft\": \"ISS\", \"name\": \"Michael Barratt\"}, {\"craft\": \"ISS\", \"name\": \"Jeanette Epps\"}, {\"craft\": \"ISS\", \"name\": \"Alexander Grebenkin\"}, {\"craft\": \"ISS\", \"name\": \"Butch Wilmore\"}, {\"craft\": \"ISS\", \"name\": \"Sunita Williams\"}, {\"craft\": \"Tiangong\", \"name\": \"Li Guangsu\"}, {\"craft\": \"Tiangong\", \"name\": \"Li Cong\"}, {\"craft\": \"Tiangong\", \"name\": \"Ye Guangfu\"}], \"number\": 12, \"message\": \"success\"}'"
      ]
     },
     "execution_count": 20,
     "metadata": {},
     "output_type": "execute_result"
    }
   ],
   "source": [
    "#ANSWER:\n",
    "response.content"
   ]
  },
  {
   "cell_type": "code",
   "execution_count": 21,
   "metadata": {},
   "outputs": [
    {
     "data": {
      "text/plain": [
       "'{\"people\": [{\"craft\": \"ISS\", \"name\": \"Oleg Kononenko\"}, {\"craft\": \"ISS\", \"name\": \"Nikolai Chub\"}, {\"craft\": \"ISS\", \"name\": \"Tracy Caldwell Dyson\"}, {\"craft\": \"ISS\", \"name\": \"Matthew Dominick\"}, {\"craft\": \"ISS\", \"name\": \"Michael Barratt\"}, {\"craft\": \"ISS\", \"name\": \"Jeanette Epps\"}, {\"craft\": \"ISS\", \"name\": \"Alexander Grebenkin\"}, {\"craft\": \"ISS\", \"name\": \"Butch Wilmore\"}, {\"craft\": \"ISS\", \"name\": \"Sunita Williams\"}, {\"craft\": \"Tiangong\", \"name\": \"Li Guangsu\"}, {\"craft\": \"Tiangong\", \"name\": \"Li Cong\"}, {\"craft\": \"Tiangong\", \"name\": \"Ye Guangfu\"}], \"number\": 12, \"message\": \"success\"}'"
      ]
     },
     "execution_count": 21,
     "metadata": {},
     "output_type": "execute_result"
    }
   ],
   "source": [
    "response.text"
   ]
  },
  {
   "cell_type": "code",
   "execution_count": 22,
   "metadata": {},
   "outputs": [
    {
     "name": "stdout",
     "output_type": "stream",
     "text": [
      "{'people': [{'craft': 'ISS', 'name': 'Oleg Kononenko'}, {'craft': 'ISS', 'name': 'Nikolai Chub'}, {'craft': 'ISS', 'name': 'Tracy Caldwell Dyson'}, {'craft': 'ISS', 'name': 'Matthew Dominick'}, {'craft': 'ISS', 'name': 'Michael Barratt'}, {'craft': 'ISS', 'name': 'Jeanette Epps'}, {'craft': 'ISS', 'name': 'Alexander Grebenkin'}, {'craft': 'ISS', 'name': 'Butch Wilmore'}, {'craft': 'ISS', 'name': 'Sunita Williams'}, {'craft': 'Tiangong', 'name': 'Li Guangsu'}, {'craft': 'Tiangong', 'name': 'Li Cong'}, {'craft': 'Tiangong', 'name': 'Ye Guangfu'}], 'number': 12, 'message': 'success'}\n",
      "12\n",
      "Oleg Kononenko\n",
      "Nikolai Chub\n",
      "Tracy Caldwell Dyson\n",
      "Matthew Dominick\n",
      "Michael Barratt\n",
      "Jeanette Epps\n",
      "Alexander Grebenkin\n",
      "Butch Wilmore\n",
      "Sunita Williams\n",
      "Li Guangsu\n",
      "Li Cong\n",
      "Ye Guangfu\n"
     ]
    }
   ],
   "source": [
    "astros = response.json()\n",
    "print(astros)\n",
    "print(astros['number'])  \n",
    "for astronaut in astros['people']: \n",
    "    print(astronaut['name'])"
   ]
  },
  {
   "cell_type": "markdown",
   "metadata": {
    "id": "A4-DBw_bGtj2"
   },
   "source": [
    "## HOMEWORK\n"
   ]
  },
  {
   "cell_type": "markdown",
   "metadata": {
    "id": "c134mC6WGtj3"
   },
   "source": [
    "1. Write a simple handler for the response status code (refer to lab resources slide for HTTP response codes). As this Jupyter Notebook is an interactive device, the handler does not need to manage subsequent code execution (i.e. by branching or aborting execution), although it should return something that could be used to do so if deployed in a Python program."
   ]
  },
  {
   "cell_type": "code",
   "execution_count": 23,
   "metadata": {
    "id": "FZM2NAWuGtj4"
   },
   "outputs": [],
   "source": [
    "#ANSWER:\n",
    "def handleResponse(response, verbose = False):\n",
    "    '''\n",
    "    Returns Boolean Value, Status Code,\n",
    "    '''\n",
    "  # if Status Code is 200 return false, and status code\n",
    "  # Otherwise Return True and Status Code"
   ]
  },
  {
   "cell_type": "markdown",
   "metadata": {
    "id": "9aPstlTIGtj5"
   },
   "source": [
    "2. Test your response handler on some correct and incorrect API calls."
   ]
  },
  {
   "cell_type": "code",
   "execution_count": 26,
   "metadata": {},
   "outputs": [
    {
     "name": "stdout",
     "output_type": "stream",
     "text": [
      "API call failed. Resolve issue before continuing!\n"
     ]
    }
   ],
   "source": [
    "response = requests.get(\"http://api.open-notify.org/astros.json\")\n",
    "if handleResponse(response):\n",
    "    print('API call successful!')\n",
    "else:\n",
    "    print('API call failed. Resolve issue before continuing!')\n",
    "\n",
    "response = requests.get(\"http://api.open-notify.org/iss-now.json\")\n",
    "handleResponse(response, True)"
   ]
  },
  {
   "cell_type": "markdown",
   "metadata": {
    "id": "k0AWq0rIIPza"
   },
   "source": [
    ">"
   ]
  },
  {
   "cell_type": "markdown",
   "metadata": {
    "id": "561tVw5LITP8"
   },
   "source": [
    ">"
   ]
  },
  {
   "cell_type": "markdown",
   "metadata": {
    "id": "H8Z7AkhTIUi3"
   },
   "source": [
    ">"
   ]
  },
  {
   "cell_type": "markdown",
   "metadata": {
    "id": "2lHXfE7KIHQp"
   },
   "source": [
    "\n",
    "\n",
    "---\n",
    "\n",
    "\n",
    "\n",
    "---\n",
    "\n",
    "\n",
    "\n",
    "> > > > > > > > > © 2024 Institute of Data\n",
    "\n",
    "\n",
    "---\n",
    "\n",
    "\n",
    "\n",
    "---\n",
    "\n",
    "\n",
    "\n"
   ]
  }
 ],
 "metadata": {
  "colab": {
   "provenance": [
    {
     "file_id": "1RknypYS3TD4wPumGiPV69EWtkq-3UBwF",
     "timestamp": 1553136072736
    }
   ]
  },
  "kernelspec": {
   "display_name": "Python 3 (ipykernel)",
   "language": "python",
   "name": "python3"
  },
  "language_info": {
   "codemirror_mode": {
    "name": "ipython",
    "version": 3
   },
   "file_extension": ".py",
   "mimetype": "text/x-python",
   "name": "python",
   "nbconvert_exporter": "python",
   "pygments_lexer": "ipython3",
   "version": "3.12.5"
  }
 },
 "nbformat": 4,
 "nbformat_minor": 4
}
