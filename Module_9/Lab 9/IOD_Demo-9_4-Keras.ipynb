{
 "cells": [
  {
   "cell_type": "markdown",
   "metadata": {
    "id": "26KthBFty-QG"
   },
   "source": [
    "<div>\n",
    "<img src=https://www.institutedata.com/wp-content/uploads/2019/10/iod_h_tp_primary_c.svg width=\"300\">\n",
    "</div>"
   ]
  },
  {
   "cell_type": "markdown",
   "metadata": {
    "id": "W5NydEUxy-QJ"
   },
   "source": [
    "# Demo: NN with Keras\n",
    "INSTRUCTIONS:\n",
    "- Run the cells\n",
    "- Observe and understand the results"
   ]
  },
  {
   "cell_type": "markdown",
   "metadata": {
    "id": "9n746euhy-QN"
   },
   "source": [
    "## Written digits classification with Keras"
   ]
  },
  {
   "cell_type": "code",
   "execution_count": 1,
   "metadata": {
    "executionInfo": {
     "elapsed": 4479,
     "status": "ok",
     "timestamp": 1719210602781,
     "user": {
      "displayName": "Samuel Hambling",
      "userId": "16671324372129903179"
     },
     "user_tz": -720
    },
    "id": "hJgb9UC1y-QQ"
   },
   "outputs": [],
   "source": [
    "## Import libraries\n",
    "import numpy as np\n",
    "\n",
    "%matplotlib inline\n",
    "import matplotlib.pyplot as plt\n",
    "\n",
    "from sklearn.datasets import load_digits\n",
    "from sklearn.metrics import confusion_matrix\n",
    "from sklearn.model_selection import train_test_split\n",
    "\n",
    "# import keras\n",
    "from keras.models import Sequential\n",
    "from keras.layers import Dense\n",
    "from tensorflow.keras.utils import to_categorical"
   ]
  },
  {
   "cell_type": "code",
   "execution_count": 5,
   "metadata": {
    "executionInfo": {
     "elapsed": 24,
     "status": "ok",
     "timestamp": 1719210606594,
     "user": {
      "displayName": "Samuel Hambling",
      "userId": "16671324372129903179"
     },
     "user_tz": -720
    },
    "id": "0tQuyTyyy-QZ"
   },
   "outputs": [
    {
     "ename": "NameError",
     "evalue": "name 'load_digits' is not defined",
     "output_type": "error",
     "traceback": [
      "\u001b[1;31m---------------------------------------------------------------------------\u001b[0m",
      "\u001b[1;31mNameError\u001b[0m                                 Traceback (most recent call last)",
      "Cell \u001b[1;32mIn[5], line 2\u001b[0m\n\u001b[0;32m      1\u001b[0m \u001b[38;5;66;03m# The digits dataset\u001b[39;00m\n\u001b[1;32m----> 2\u001b[0m digits \u001b[38;5;241m=\u001b[39m load_digits()\n",
      "\u001b[1;31mNameError\u001b[0m: name 'load_digits' is not defined"
     ]
    }
   ],
   "source": [
    "# The digits dataset\n",
    "digits = load_digits()"
   ]
  },
  {
   "cell_type": "code",
   "execution_count": 3,
   "metadata": {
    "colab": {
     "base_uri": "https://localhost:8080/"
    },
    "executionInfo": {
     "elapsed": 22,
     "status": "ok",
     "timestamp": 1719210606594,
     "user": {
      "displayName": "Samuel Hambling",
      "userId": "16671324372129903179"
     },
     "user_tz": -720
    },
    "id": "Zn2DiwPXy-Qd",
    "outputId": "a7c8ba57-b8e7-4992-bff1-7ae0600c3a2c"
   },
   "outputs": [
    {
     "name": "stdout",
     "output_type": "stream",
     "text": [
      ".. _digits_dataset:\n",
      "\n",
      "Optical recognition of handwritten digits dataset\n",
      "--------------------------------------------------\n",
      "\n",
      "**Data Set Characteristics:**\n",
      "\n",
      "    :Number of Instances: 1797\n",
      "    :Number of Attributes: 64\n",
      "    :Attribute Information: 8x8 image of integer pixels in the range 0..16.\n",
      "    :Missing Attribute Values: None\n",
      "    :Creator: E. Alpaydin (alpaydin '@' boun.edu.tr)\n",
      "    :Date: July; 1998\n",
      "\n",
      "This is a copy of the test set of the UCI ML hand-written digits datasets\n",
      "https://archive.ics.uci.edu/ml/datasets/Optical+Recognition+of+Handwritten+Digits\n",
      "\n",
      "The data set contains images of hand-written digits: 10 classes where\n",
      "each class refers to a digit.\n",
      "\n",
      "Preprocessing programs made available by NIST were used to extract\n",
      "normalized bitmaps of handwritten digits from a preprinted form. From a\n",
      "total of 43 people, 30 contributed to the training set and different 13\n",
      "to the test set. 32x32 bitmaps are divided into nonoverlapping blocks of\n",
      "4x4 and the number of on pixels are counted in each block. This generates\n",
      "an input matrix of 8x8 where each element is an integer in the range\n",
      "0..16. This reduces dimensionality and gives invariance to small\n",
      "distortions.\n",
      "\n",
      "For info on NIST preprocessing routines, see M. D. Garris, J. L. Blue, G.\n",
      "T. Candela, D. L. Dimmick, J. Geist, P. J. Grother, S. A. Janet, and C.\n",
      "L. Wilson, NIST Form-Based Handprint Recognition System, NISTIR 5469,\n",
      "1994.\n",
      "\n",
      ".. topic:: References\n",
      "\n",
      "  - C. Kaynak (1995) Methods of Combining Multiple Classifiers and Their\n",
      "    Applications to Handwritten Digit Recognition, MSc Thesis, Institute of\n",
      "    Graduate Studies in Science and Engineering, Bogazici University.\n",
      "  - E. Alpaydin, C. Kaynak (1998) Cascading Classifiers, Kybernetika.\n",
      "  - Ken Tang and Ponnuthurai N. Suganthan and Xi Yao and A. Kai Qin.\n",
      "    Linear dimensionalityreduction using relevance weighted LDA. School of\n",
      "    Electrical and Electronic Engineering Nanyang Technological University.\n",
      "    2005.\n",
      "  - Claudio Gentile. A New Approximate Maximal Margin Classification\n",
      "    Algorithm. NIPS. 2000.\n",
      "\n"
     ]
    }
   ],
   "source": [
    "print(digits.DESCR)"
   ]
  },
  {
   "cell_type": "code",
   "execution_count": 37,
   "metadata": {
    "colab": {
     "base_uri": "https://localhost:8080/",
     "height": 191
    },
    "executionInfo": {
     "elapsed": 415,
     "status": "ok",
     "timestamp": 1719211210079,
     "user": {
      "displayName": "Samuel Hambling",
      "userId": "16671324372129903179"
     },
     "user_tz": -720
    },
    "id": "oi5lOrDYy-Qh",
    "outputId": "5e099cad-0a8e-4ded-fb38-fbf04a51195a"
   },
   "outputs": [
    {
     "data": {
      "image/png": "[encoded data removed]",
      "text/plain": [
       "<Figure size 200x200 with 1 Axes>"
      ]
     },
     "metadata": {},
     "output_type": "display_data"
    }
   ],
   "source": [
    "id = np.random.randint(len(digits.target))\n",
    "id = 0\n",
    "plt.figure(figsize = (2, 2))\n",
    "plt.imshow(digits.images[id], cmap = 'gray')\n",
    "plt.xticks([])\n",
    "plt.yticks([])\n",
    "plt.show()"
   ]
  },
  {
   "cell_type": "code",
   "execution_count": 5,
   "metadata": {
    "executionInfo": {
     "elapsed": 14,
     "status": "ok",
     "timestamp": 1719210606595,
     "user": {
      "displayName": "Samuel Hambling",
      "userId": "16671324372129903179"
     },
     "user_tz": -720
    },
    "id": "k-Wu4bQJy-Ql"
   },
   "outputs": [],
   "source": [
    "# Prepare input data\n",
    "# input\n",
    "X = digits.data.astype(np.uint8)\n",
    "n_cols = X.shape[1]\n",
    "\n",
    "# output\n",
    "target = digits.target.astype(np.uint8)\n",
    "\n",
    "# Convert the target to categorical\n",
    "y = to_categorical(\n",
    "    target,\n",
    "    num_classes = len(set(target)),\n",
    "    dtype = 'uint8')"
   ]
  },
  {
   "cell_type": "code",
   "execution_count": null,
   "metadata": {},
   "outputs": [],
   "source": [
    "from keras.models import Sequential\n",
    "from keras.layers import Dense\n",
    "\n",
    "# Initialize the model\n",
    "model = Sequential()\n",
    "\n",
    "# Input layer and first hidden layer\n",
    "model.add(Dense(64, input_dim=X_train.shape[1], activation='relu'))\n",
    "\n",
    "# Second hidden layer\n",
    "model.add(Dense(32, activation='relu'))\n",
    "\n",
    "# Output layer\n",
    "model.add(Dense(1))  # For regression, no activation or linear activation is typical\n",
    "\n",
    "# Compile the model\n",
    "model.compile(optimizer='adam', loss='mean_squared_error')\n",
    "\n",
    "# Summary of the model architecture\n",
    "model.summary()\n"
   ]
  },
  {
   "cell_type": "code",
   "execution_count": 27,
   "metadata": {
    "colab": {
     "base_uri": "https://localhost:8080/"
    },
    "executionInfo": {
     "elapsed": 3,
     "status": "ok",
     "timestamp": 1719210720940,
     "user": {
      "displayName": "Samuel Hambling",
      "userId": "16671324372129903179"
     },
     "user_tz": -720
    },
    "id": "LrNBwVxP8a6U",
    "outputId": "2da4f43b-d3a3-478f-fc63-4fef78a2420e"
   },
   "outputs": [
    {
     "data": {
      "text/plain": [
       "64"
      ]
     },
     "execution_count": 27,
     "metadata": {},
     "output_type": "execute_result"
    }
   ],
   "source": [
    "n_cols"
   ]
  },
  {
   "cell_type": "code",
   "execution_count": 6,
   "metadata": {
    "colab": {
     "base_uri": "https://localhost:8080/"
    },
    "executionInfo": {
     "elapsed": 14,
     "status": "ok",
     "timestamp": 1719210606595,
     "user": {
      "displayName": "Samuel Hambling",
      "userId": "16671324372129903179"
     },
     "user_tz": -720
    },
    "id": "AhDCJWnX9SKD",
    "outputId": "28ca21e6-453b-4a83-c5d0-a9ba81fddfc4"
   },
   "outputs": [
    {
     "data": {
      "text/plain": [
       "1797"
      ]
     },
     "execution_count": 6,
     "metadata": {},
     "output_type": "execute_result"
    }
   ],
   "source": [
    "len(X)"
   ]
  },
  {
   "cell_type": "code",
   "execution_count": 7,
   "metadata": {
    "colab": {
     "base_uri": "https://localhost:8080/"
    },
    "executionInfo": {
     "elapsed": 1260,
     "status": "ok",
     "timestamp": 1719210607845,
     "user": {
      "displayName": "Samuel Hambling",
      "userId": "16671324372129903179"
     },
     "user_tz": -720
    },
    "id": "KPnHB80I9lqg",
    "outputId": "8a295dea-815c-4498-902f-89de68c6a0c1"
   },
   "outputs": [
    {
     "data": {
      "text/plain": [
       "array([0, 1, 2, ..., 8, 9, 8], dtype=uint8)"
      ]
     },
     "execution_count": 7,
     "metadata": {},
     "output_type": "execute_result"
    }
   ],
   "source": [
    "target"
   ]
  },
  {
   "cell_type": "code",
   "execution_count": 8,
   "metadata": {
    "executionInfo": {
     "elapsed": 4,
     "status": "ok",
     "timestamp": 1719210607846,
     "user": {
      "displayName": "Samuel Hambling",
      "userId": "16671324372129903179"
     },
     "user_tz": -720
    },
    "id": "nBFFtaWcy-Qo"
   },
   "outputs": [],
   "source": [
    "X_train, X_test, y_train, y_test = train_test_split(\n",
    "    X, y,\n",
    "    test_size = 0.3,\n",
    "    random_state = 65)"
   ]
  },
  {
   "cell_type": "code",
   "execution_count": 9,
   "metadata": {
    "executionInfo": {
     "elapsed": 1171,
     "status": "ok",
     "timestamp": 1719210609014,
     "user": {
      "displayName": "Samuel Hambling",
      "userId": "16671324372129903179"
     },
     "user_tz": -720
    },
    "id": "aKrm9Miqy-Qq"
   },
   "outputs": [],
   "source": [
    "# Set up the model architecture\n",
    "model = Sequential()"
   ]
  },
  {
   "cell_type": "code",
   "execution_count": 10,
   "metadata": {
    "executionInfo": {
     "elapsed": 18,
     "status": "ok",
     "timestamp": 1719210609015,
     "user": {
      "displayName": "Samuel Hambling",
      "userId": "16671324372129903179"
     },
     "user_tz": -720
    },
    "id": "KC9AVmkFy-Qr"
   },
   "outputs": [],
   "source": [
    "# Add the first hidden layer\n",
    "model.add(Dense(100, activation = 'relu', input_shape = (n_cols, )))\n",
    "# Add the second hidden layer\n",
    "model.add(Dense(50, activation = 'relu'))\n",
    "\n",
    "# Add the output layer\n",
    "model.add(Dense(10, activation = 'softmax'))"
   ]
  },
  {
   "cell_type": "code",
   "execution_count": 11,
   "metadata": {
    "colab": {
     "base_uri": "https://localhost:8080/"
    },
    "executionInfo": {
     "elapsed": 15,
     "status": "ok",
     "timestamp": 1719210609015,
     "user": {
      "displayName": "Samuel Hambling",
      "userId": "16671324372129903179"
     },
     "user_tz": -720
    },
    "id": "05KgUEX8y-Qt",
    "outputId": "07d9358b-96cb-4c1c-f818-cc120bc99447"
   },
   "outputs": [
    {
     "name": "stdout",
     "output_type": "stream",
     "text": [
      "Model: \"sequential\"\n",
      "_________________________________________________________________\n",
      " Layer (type)                Output Shape              Param #   \n",
      "=================================================================\n",
      " dense (Dense)               (None, 100)               6500      \n",
      "                                                                 \n",
      " dense_1 (Dense)             (None, 50)                5050      \n",
      "                                                                 \n",
      " dense_2 (Dense)             (None, 10)                510       \n",
      "                                                                 \n",
      "=================================================================\n",
      "Total params: 12060 (47.11 KB)\n",
      "Trainable params: 12060 (47.11 KB)\n",
      "Non-trainable params: 0 (0.00 Byte)\n",
      "_________________________________________________________________\n",
      "None\n"
     ]
    }
   ],
   "source": [
    "print(model.summary())"
   ]
  },
  {
   "cell_type": "code",
   "execution_count": 12,
   "metadata": {
    "executionInfo": {
     "elapsed": 7,
     "status": "ok",
     "timestamp": 1719210609015,
     "user": {
      "displayName": "Samuel Hambling",
      "userId": "16671324372129903179"
     },
     "user_tz": -720
    },
    "id": "4eu9O-5Xy-Qv"
   },
   "outputs": [],
   "source": [
    "# Compile the model\n",
    "model.compile(\n",
    "    optimizer = 'sgd',\n",
    "    loss = 'categorical_crossentropy',\n",
    "    metrics = ['accuracy'])"
   ]
  },
  {
   "cell_type": "code",
   "execution_count": 38,
   "metadata": {
    "colab": {
     "base_uri": "https://localhost:8080/"
    },
    "executionInfo": {
     "elapsed": 393,
     "status": "ok",
     "timestamp": 1719211253593,
     "user": {
      "displayName": "Samuel Hambling",
      "userId": "16671324372129903179"
     },
     "user_tz": -720
    },
    "id": "OD0Qx5Cg9vFk",
    "outputId": "e11b9d17-a3ba-4ffd-96c2-a523b7ec914c"
   },
   "outputs": [
    {
     "data": {
      "text/plain": [
       "(1257, 10)"
      ]
     },
     "execution_count": 38,
     "metadata": {},
     "output_type": "execute_result"
    }
   ],
   "source": [
    "y_train.shape"
   ]
  },
  {
   "cell_type": "code",
   "execution_count": 40,
   "metadata": {
    "colab": {
     "base_uri": "https://localhost:8080/"
    },
    "executionInfo": {
     "elapsed": 434,
     "status": "ok",
     "timestamp": 1719211270801,
     "user": {
      "displayName": "Samuel Hambling",
      "userId": "16671324372129903179"
     },
     "user_tz": -720
    },
    "id": "cKdCGIqz-bxV",
    "outputId": "a0f5feae-b2d0-41f6-95dd-be0eb80ce8c8"
   },
   "outputs": [
    {
     "data": {
      "text/plain": [
       "47.1"
      ]
     },
     "execution_count": 40,
     "metadata": {},
     "output_type": "execute_result"
    }
   ],
   "source": [
    "942 / 20"
   ]
  },
  {
   "cell_type": "code",
   "execution_count": 13,
   "metadata": {
    "colab": {
     "base_uri": "https://localhost:8080/"
    },
    "executionInfo": {
     "elapsed": 83255,
     "status": "ok",
     "timestamp": 1719210692263,
     "user": {
      "displayName": "Samuel Hambling",
      "userId": "16671324372129903179"
     },
     "user_tz": -720
    },
    "id": "DSnIhJ0My-Qw",
    "outputId": "804e87a8-f043-4680-adf8-be9ac999d48f"
   },
   "outputs": [
    {
     "name": "stdout",
     "output_type": "stream",
     "text": [
      "Epoch 1/100\n",
      "48/48 [==============================] - 4s 17ms/step - loss: 1.4244 - accuracy: 0.5998 - val_loss: 0.6225 - val_accuracy: 0.8127\n",
      "Epoch 2/100\n",
      "48/48 [==============================] - 0s 7ms/step - loss: 0.4299 - accuracy: 0.8907 - val_loss: 0.5819 - val_accuracy: 0.8127\n",
      "Epoch 3/100\n",
      "48/48 [==============================] - 0s 6ms/step - loss: 0.2764 - accuracy: 0.9225 - val_loss: 0.4087 - val_accuracy: 0.8730\n",
      "Epoch 4/100\n",
      "48/48 [==============================] - 0s 6ms/step - loss: 0.2054 - accuracy: 0.9416 - val_loss: 2.9866 - val_accuracy: 0.4952\n",
      "Epoch 5/100\n",
      "48/48 [==============================] - 0s 10ms/step - loss: 0.2756 - accuracy: 0.9278 - val_loss: 0.2649 - val_accuracy: 0.9143\n",
      "Epoch 6/100\n",
      "48/48 [==============================] - 1s 19ms/step - loss: 0.1237 - accuracy: 0.9724 - val_loss: 0.9830 - val_accuracy: 0.7810\n",
      "Epoch 7/100\n",
      "48/48 [==============================] - 0s 10ms/step - loss: 0.1173 - accuracy: 0.9745 - val_loss: 0.2169 - val_accuracy: 0.9238\n",
      "Epoch 8/100\n",
      "48/48 [==============================] - 0s 10ms/step - loss: 0.0974 - accuracy: 0.9777 - val_loss: 0.2080 - val_accuracy: 0.9429\n",
      "Epoch 9/100\n",
      "48/48 [==============================] - 0s 9ms/step - loss: 0.0723 - accuracy: 0.9851 - val_loss: 0.2018 - val_accuracy: 0.9397\n",
      "Epoch 10/100\n",
      "48/48 [==============================] - 1s 13ms/step - loss: 0.0643 - accuracy: 0.9862 - val_loss: 0.2060 - val_accuracy: 0.9365\n",
      "Epoch 11/100\n",
      "48/48 [==============================] - 0s 10ms/step - loss: 0.0526 - accuracy: 0.9936 - val_loss: 0.1902 - val_accuracy: 0.9429\n",
      "Epoch 12/100\n",
      "48/48 [==============================] - 1s 14ms/step - loss: 0.0474 - accuracy: 0.9936 - val_loss: 0.1964 - val_accuracy: 0.9397\n",
      "Epoch 13/100\n",
      "48/48 [==============================] - 1s 11ms/step - loss: 0.0434 - accuracy: 0.9947 - val_loss: 0.1817 - val_accuracy: 0.9492\n",
      "Epoch 14/100\n",
      "48/48 [==============================] - 1s 15ms/step - loss: 0.0380 - accuracy: 0.9958 - val_loss: 0.1752 - val_accuracy: 0.9333\n",
      "Epoch 15/100\n",
      "48/48 [==============================] - 1s 12ms/step - loss: 0.0342 - accuracy: 0.9968 - val_loss: 0.1765 - val_accuracy: 0.9460\n",
      "Epoch 16/100\n",
      "48/48 [==============================] - 1s 10ms/step - loss: 0.0314 - accuracy: 0.9958 - val_loss: 0.1731 - val_accuracy: 0.9492\n",
      "Epoch 17/100\n",
      "48/48 [==============================] - 0s 9ms/step - loss: 0.0286 - accuracy: 0.9968 - val_loss: 0.1741 - val_accuracy: 0.9429\n",
      "Epoch 18/100\n",
      "48/48 [==============================] - 1s 16ms/step - loss: 0.0275 - accuracy: 0.9958 - val_loss: 0.1758 - val_accuracy: 0.9492\n",
      "Epoch 19/100\n",
      "48/48 [==============================] - 1s 20ms/step - loss: 0.0232 - accuracy: 0.9979 - val_loss: 0.1760 - val_accuracy: 0.9492\n",
      "Epoch 20/100\n",
      "48/48 [==============================] - 1s 17ms/step - loss: 0.0229 - accuracy: 0.9968 - val_loss: 0.2974 - val_accuracy: 0.9175\n",
      "Epoch 21/100\n",
      "48/48 [==============================] - 1s 19ms/step - loss: 0.0235 - accuracy: 0.9979 - val_loss: 0.1735 - val_accuracy: 0.9460\n",
      "Epoch 22/100\n",
      "48/48 [==============================] - 1s 18ms/step - loss: 0.0190 - accuracy: 0.9979 - val_loss: 0.1673 - val_accuracy: 0.9492\n",
      "Epoch 23/100\n",
      "48/48 [==============================] - 1s 15ms/step - loss: 0.0180 - accuracy: 0.9979 - val_loss: 0.1760 - val_accuracy: 0.9492\n",
      "Epoch 24/100\n",
      "48/48 [==============================] - 1s 20ms/step - loss: 0.0169 - accuracy: 0.9979 - val_loss: 0.1673 - val_accuracy: 0.9492\n",
      "Epoch 25/100\n",
      "48/48 [==============================] - 1s 23ms/step - loss: 0.0156 - accuracy: 0.9989 - val_loss: 0.1706 - val_accuracy: 0.9460\n",
      "Epoch 26/100\n",
      "48/48 [==============================] - 1s 22ms/step - loss: 0.0143 - accuracy: 0.9989 - val_loss: 0.1665 - val_accuracy: 0.9460\n",
      "Epoch 27/100\n",
      "48/48 [==============================] - 1s 13ms/step - loss: 0.0134 - accuracy: 1.0000 - val_loss: 0.1667 - val_accuracy: 0.9587\n",
      "Epoch 28/100\n",
      "48/48 [==============================] - 1s 22ms/step - loss: 0.0132 - accuracy: 0.9989 - val_loss: 0.1664 - val_accuracy: 0.9556\n",
      "Epoch 29/100\n",
      "48/48 [==============================] - 1s 20ms/step - loss: 0.0123 - accuracy: 0.9989 - val_loss: 0.1621 - val_accuracy: 0.9492\n",
      "Epoch 30/100\n",
      "48/48 [==============================] - 1s 15ms/step - loss: 0.0114 - accuracy: 1.0000 - val_loss: 0.3345 - val_accuracy: 0.8984\n",
      "Epoch 31/100\n",
      "48/48 [==============================] - 1s 14ms/step - loss: 0.0147 - accuracy: 0.9989 - val_loss: 0.1731 - val_accuracy: 0.9556\n",
      "Epoch 32/100\n",
      "48/48 [==============================] - 1s 24ms/step - loss: 0.0113 - accuracy: 0.9989 - val_loss: 0.1557 - val_accuracy: 0.9587\n",
      "Epoch 33/100\n",
      "48/48 [==============================] - 1s 23ms/step - loss: 0.0098 - accuracy: 0.9989 - val_loss: 0.1634 - val_accuracy: 0.9492\n",
      "Epoch 34/100\n",
      "48/48 [==============================] - 1s 19ms/step - loss: 0.0095 - accuracy: 1.0000 - val_loss: 0.1592 - val_accuracy: 0.9492\n",
      "Epoch 35/100\n",
      "48/48 [==============================] - 1s 15ms/step - loss: 0.0090 - accuracy: 1.0000 - val_loss: 0.1551 - val_accuracy: 0.9524\n",
      "Epoch 36/100\n",
      "48/48 [==============================] - 1s 19ms/step - loss: 0.0087 - accuracy: 1.0000 - val_loss: 0.1562 - val_accuracy: 0.9556\n",
      "Epoch 37/100\n",
      "48/48 [==============================] - 1s 19ms/step - loss: 0.0082 - accuracy: 1.0000 - val_loss: 0.1569 - val_accuracy: 0.9556\n",
      "Epoch 38/100\n",
      "48/48 [==============================] - 1s 27ms/step - loss: 0.0077 - accuracy: 1.0000 - val_loss: 0.1616 - val_accuracy: 0.9556\n",
      "Epoch 39/100\n",
      "48/48 [==============================] - 1s 17ms/step - loss: 0.0077 - accuracy: 1.0000 - val_loss: 0.1536 - val_accuracy: 0.9556\n",
      "Epoch 40/100\n",
      "48/48 [==============================] - 1s 11ms/step - loss: 0.0074 - accuracy: 1.0000 - val_loss: 0.1542 - val_accuracy: 0.9524\n",
      "Epoch 41/100\n",
      "48/48 [==============================] - 1s 13ms/step - loss: 0.0073 - accuracy: 1.0000 - val_loss: 0.1531 - val_accuracy: 0.9587\n",
      "Epoch 42/100\n",
      "48/48 [==============================] - 1s 14ms/step - loss: 0.0070 - accuracy: 1.0000 - val_loss: 0.1569 - val_accuracy: 0.9524\n",
      "Epoch 43/100\n",
      "48/48 [==============================] - 1s 14ms/step - loss: 0.0066 - accuracy: 1.0000 - val_loss: 0.1589 - val_accuracy: 0.9492\n",
      "Epoch 44/100\n",
      "48/48 [==============================] - 0s 9ms/step - loss: 0.0066 - accuracy: 1.0000 - val_loss: 0.1556 - val_accuracy: 0.9556\n",
      "Epoch 45/100\n",
      "48/48 [==============================] - 0s 10ms/step - loss: 0.0063 - accuracy: 1.0000 - val_loss: 0.1547 - val_accuracy: 0.9524\n",
      "Epoch 46/100\n",
      "48/48 [==============================] - 1s 15ms/step - loss: 0.0061 - accuracy: 1.0000 - val_loss: 0.1544 - val_accuracy: 0.9524\n",
      "Epoch 47/100\n",
      "48/48 [==============================] - 1s 14ms/step - loss: 0.0059 - accuracy: 1.0000 - val_loss: 0.1544 - val_accuracy: 0.9587\n",
      "Epoch 48/100\n",
      "48/48 [==============================] - 1s 15ms/step - loss: 0.0057 - accuracy: 1.0000 - val_loss: 0.1540 - val_accuracy: 0.9587\n",
      "Epoch 49/100\n",
      "48/48 [==============================] - 0s 8ms/step - loss: 0.0056 - accuracy: 1.0000 - val_loss: 0.1554 - val_accuracy: 0.9556\n",
      "Epoch 50/100\n",
      "48/48 [==============================] - 0s 7ms/step - loss: 0.0054 - accuracy: 1.0000 - val_loss: 0.1549 - val_accuracy: 0.9556\n",
      "Epoch 51/100\n",
      "48/48 [==============================] - 0s 7ms/step - loss: 0.0052 - accuracy: 1.0000 - val_loss: 0.1531 - val_accuracy: 0.9556\n",
      "Epoch 52/100\n",
      "48/48 [==============================] - 0s 9ms/step - loss: 0.0051 - accuracy: 1.0000 - val_loss: 0.1528 - val_accuracy: 0.9524\n",
      "Epoch 53/100\n",
      "48/48 [==============================] - 0s 9ms/step - loss: 0.0050 - accuracy: 1.0000 - val_loss: 0.1511 - val_accuracy: 0.9587\n",
      "Epoch 54/100\n",
      "48/48 [==============================] - 0s 9ms/step - loss: 0.0048 - accuracy: 1.0000 - val_loss: 0.1508 - val_accuracy: 0.9587\n",
      "Epoch 55/100\n",
      "48/48 [==============================] - 0s 6ms/step - loss: 0.0047 - accuracy: 1.0000 - val_loss: 0.1517 - val_accuracy: 0.9587\n",
      "Epoch 56/100\n",
      "48/48 [==============================] - 0s 5ms/step - loss: 0.0047 - accuracy: 1.0000 - val_loss: 0.1534 - val_accuracy: 0.9556\n",
      "Epoch 57/100\n",
      "48/48 [==============================] - 0s 6ms/step - loss: 0.0045 - accuracy: 1.0000 - val_loss: 0.1539 - val_accuracy: 0.9524\n",
      "Epoch 58/100\n",
      "48/48 [==============================] - 0s 5ms/step - loss: 0.0043 - accuracy: 1.0000 - val_loss: 0.1566 - val_accuracy: 0.9524\n",
      "Epoch 59/100\n",
      "48/48 [==============================] - 0s 5ms/step - loss: 0.0043 - accuracy: 1.0000 - val_loss: 0.1485 - val_accuracy: 0.9556\n",
      "Epoch 60/100\n",
      "48/48 [==============================] - 0s 5ms/step - loss: 0.0046 - accuracy: 1.0000 - val_loss: 0.1472 - val_accuracy: 0.9587\n",
      "Epoch 61/100\n",
      "48/48 [==============================] - 0s 5ms/step - loss: 0.0042 - accuracy: 1.0000 - val_loss: 0.1516 - val_accuracy: 0.9556\n",
      "Epoch 62/100\n",
      "48/48 [==============================] - 0s 6ms/step - loss: 0.0040 - accuracy: 1.0000 - val_loss: 0.1520 - val_accuracy: 0.9492\n",
      "Epoch 63/100\n",
      "48/48 [==============================] - 0s 5ms/step - loss: 0.0040 - accuracy: 1.0000 - val_loss: 0.1515 - val_accuracy: 0.9556\n",
      "Epoch 64/100\n",
      "48/48 [==============================] - 0s 5ms/step - loss: 0.0039 - accuracy: 1.0000 - val_loss: 0.1904 - val_accuracy: 0.9524\n",
      "Epoch 65/100\n",
      "48/48 [==============================] - 0s 6ms/step - loss: 0.0043 - accuracy: 1.0000 - val_loss: 0.1538 - val_accuracy: 0.9556\n",
      "Epoch 66/100\n",
      "48/48 [==============================] - 0s 5ms/step - loss: 0.0037 - accuracy: 1.0000 - val_loss: 0.1519 - val_accuracy: 0.9556\n",
      "Epoch 67/100\n",
      "48/48 [==============================] - 0s 6ms/step - loss: 0.0036 - accuracy: 1.0000 - val_loss: 0.1532 - val_accuracy: 0.9524\n",
      "Epoch 68/100\n",
      "48/48 [==============================] - 0s 5ms/step - loss: 0.0036 - accuracy: 1.0000 - val_loss: 0.1535 - val_accuracy: 0.9524\n",
      "Epoch 69/100\n",
      "48/48 [==============================] - 0s 5ms/step - loss: 0.0035 - accuracy: 1.0000 - val_loss: 0.1534 - val_accuracy: 0.9492\n",
      "Epoch 70/100\n",
      "48/48 [==============================] - 0s 5ms/step - loss: 0.0035 - accuracy: 1.0000 - val_loss: 0.1500 - val_accuracy: 0.9587\n",
      "Epoch 71/100\n",
      "48/48 [==============================] - 0s 5ms/step - loss: 0.0034 - accuracy: 1.0000 - val_loss: 0.1526 - val_accuracy: 0.9556\n",
      "Epoch 72/100\n",
      "48/48 [==============================] - 0s 5ms/step - loss: 0.0033 - accuracy: 1.0000 - val_loss: 0.1527 - val_accuracy: 0.9556\n",
      "Epoch 73/100\n",
      "48/48 [==============================] - 0s 5ms/step - loss: 0.0033 - accuracy: 1.0000 - val_loss: 0.1525 - val_accuracy: 0.9556\n",
      "Epoch 74/100\n",
      "48/48 [==============================] - 0s 5ms/step - loss: 0.0032 - accuracy: 1.0000 - val_loss: 0.1522 - val_accuracy: 0.9524\n",
      "Epoch 75/100\n",
      "48/48 [==============================] - 0s 6ms/step - loss: 0.0031 - accuracy: 1.0000 - val_loss: 0.1515 - val_accuracy: 0.9524\n",
      "Epoch 76/100\n",
      "48/48 [==============================] - 0s 6ms/step - loss: 0.0031 - accuracy: 1.0000 - val_loss: 0.1520 - val_accuracy: 0.9556\n",
      "Epoch 77/100\n",
      "48/48 [==============================] - 0s 5ms/step - loss: 0.0030 - accuracy: 1.0000 - val_loss: 0.1486 - val_accuracy: 0.9587\n",
      "Epoch 78/100\n",
      "48/48 [==============================] - 0s 5ms/step - loss: 0.0031 - accuracy: 1.0000 - val_loss: 0.1523 - val_accuracy: 0.9556\n",
      "Epoch 79/100\n",
      "48/48 [==============================] - 0s 4ms/step - loss: 0.0029 - accuracy: 1.0000 - val_loss: 0.1517 - val_accuracy: 0.9524\n",
      "Epoch 80/100\n",
      "48/48 [==============================] - 0s 5ms/step - loss: 0.0029 - accuracy: 1.0000 - val_loss: 0.1511 - val_accuracy: 0.9587\n",
      "Epoch 81/100\n",
      "48/48 [==============================] - 0s 5ms/step - loss: 0.0028 - accuracy: 1.0000 - val_loss: 0.1529 - val_accuracy: 0.9556\n",
      "Epoch 82/100\n",
      "48/48 [==============================] - 0s 4ms/step - loss: 0.0028 - accuracy: 1.0000 - val_loss: 0.1520 - val_accuracy: 0.9556\n",
      "Epoch 83/100\n",
      "48/48 [==============================] - 0s 5ms/step - loss: 0.0027 - accuracy: 1.0000 - val_loss: 0.1508 - val_accuracy: 0.9524\n",
      "Epoch 84/100\n",
      "48/48 [==============================] - 0s 5ms/step - loss: 0.0027 - accuracy: 1.0000 - val_loss: 0.1574 - val_accuracy: 0.9556\n",
      "Epoch 85/100\n",
      "48/48 [==============================] - 0s 5ms/step - loss: 0.0027 - accuracy: 1.0000 - val_loss: 0.1484 - val_accuracy: 0.9587\n",
      "Epoch 86/100\n",
      "48/48 [==============================] - 0s 4ms/step - loss: 0.0026 - accuracy: 1.0000 - val_loss: 0.1525 - val_accuracy: 0.9524\n",
      "Epoch 87/100\n",
      "48/48 [==============================] - 0s 5ms/step - loss: 0.0026 - accuracy: 1.0000 - val_loss: 0.1511 - val_accuracy: 0.9556\n",
      "Epoch 88/100\n",
      "48/48 [==============================] - 0s 5ms/step - loss: 0.0025 - accuracy: 1.0000 - val_loss: 0.1525 - val_accuracy: 0.9524\n",
      "Epoch 89/100\n",
      "48/48 [==============================] - 0s 4ms/step - loss: 0.0025 - accuracy: 1.0000 - val_loss: 0.1520 - val_accuracy: 0.9524\n",
      "Epoch 90/100\n",
      "48/48 [==============================] - 0s 5ms/step - loss: 0.0025 - accuracy: 1.0000 - val_loss: 0.1525 - val_accuracy: 0.9556\n",
      "Epoch 91/100\n",
      "48/48 [==============================] - 0s 5ms/step - loss: 0.0024 - accuracy: 1.0000 - val_loss: 0.1521 - val_accuracy: 0.9524\n",
      "Epoch 92/100\n",
      "48/48 [==============================] - 0s 5ms/step - loss: 0.0024 - accuracy: 1.0000 - val_loss: 0.1521 - val_accuracy: 0.9524\n",
      "Epoch 93/100\n",
      "48/48 [==============================] - 0s 4ms/step - loss: 0.0024 - accuracy: 1.0000 - val_loss: 0.1497 - val_accuracy: 0.9556\n",
      "Epoch 94/100\n",
      "48/48 [==============================] - 0s 4ms/step - loss: 0.0024 - accuracy: 1.0000 - val_loss: 0.1512 - val_accuracy: 0.9524\n",
      "Epoch 95/100\n",
      "48/48 [==============================] - 0s 5ms/step - loss: 0.0023 - accuracy: 1.0000 - val_loss: 0.1523 - val_accuracy: 0.9524\n",
      "Epoch 96/100\n",
      "48/48 [==============================] - 0s 6ms/step - loss: 0.0023 - accuracy: 1.0000 - val_loss: 0.1535 - val_accuracy: 0.9524\n",
      "Epoch 97/100\n",
      "48/48 [==============================] - 0s 6ms/step - loss: 0.0022 - accuracy: 1.0000 - val_loss: 0.1499 - val_accuracy: 0.9587\n",
      "Epoch 98/100\n",
      "48/48 [==============================] - 0s 6ms/step - loss: 0.0022 - accuracy: 1.0000 - val_loss: 0.1515 - val_accuracy: 0.9524\n",
      "Epoch 99/100\n",
      "48/48 [==============================] - 0s 5ms/step - loss: 0.0022 - accuracy: 1.0000 - val_loss: 0.1498 - val_accuracy: 0.9587\n",
      "Epoch 100/100\n",
      "48/48 [==============================] - 0s 6ms/step - loss: 0.0022 - accuracy: 1.0000 - val_loss: 0.1528 - val_accuracy: 0.9524\n",
      "CPU times: user 27.7 s, sys: 2.77 s, total: 30.5 s\n",
      "Wall time: 1min 23s\n"
     ]
    }
   ],
   "source": [
    "%%time\n",
    "# Fit the model\n",
    "history = model.fit(\n",
    "    X_train,\n",
    "    y_train,\n",
    "    validation_split = 0.25,\n",
    "    batch_size = 20,\n",
    "    epochs = 100,\n",
    "    verbose = 1)"
   ]
  },
  {
   "cell_type": "code",
   "execution_count": 14,
   "metadata": {
    "colab": {
     "base_uri": "https://localhost:8080/"
    },
    "executionInfo": {
     "elapsed": 24,
     "status": "ok",
     "timestamp": 1719210692265,
     "user": {
      "displayName": "Samuel Hambling",
      "userId": "16671324372129903179"
     },
     "user_tz": -720
    },
    "id": "RM1gr2Vgygtb",
    "outputId": "f61fc408-0304-4f3c-e606-43f61d9e5910"
   },
   "outputs": [
    {
     "data": {
      "text/plain": [
       "['__class__',\n",
       " '__delattr__',\n",
       " '__dict__',\n",
       " '__dir__',\n",
       " '__doc__',\n",
       " '__eq__',\n",
       " '__format__',\n",
       " '__ge__',\n",
       " '__getattribute__',\n",
       " '__gt__',\n",
       " '__hash__',\n",
       " '__init__',\n",
       " '__init_subclass__',\n",
       " '__le__',\n",
       " '__lt__',\n",
       " '__module__',\n",
       " '__ne__',\n",
       " '__new__',\n",
       " '__reduce__',\n",
       " '__reduce_ex__',\n",
       " '__repr__',\n",
       " '__setattr__',\n",
       " '__sizeof__',\n",
       " '__str__',\n",
       " '__subclasshook__',\n",
       " '__weakref__',\n",
       " '_chief_worker_only',\n",
       " '_implements_predict_batch_hooks',\n",
       " '_implements_test_batch_hooks',\n",
       " '_implements_train_batch_hooks',\n",
       " '_keras_api_names',\n",
       " '_keras_api_names_v1',\n",
       " '_supports_tf_logs',\n",
       " 'epoch',\n",
       " 'history',\n",
       " 'model',\n",
       " 'on_batch_begin',\n",
       " 'on_batch_end',\n",
       " 'on_epoch_begin',\n",
       " 'on_epoch_end',\n",
       " 'on_predict_batch_begin',\n",
       " 'on_predict_batch_end',\n",
       " 'on_predict_begin',\n",
       " 'on_predict_end',\n",
       " 'on_test_batch_begin',\n",
       " 'on_test_batch_end',\n",
       " 'on_test_begin',\n",
       " 'on_test_end',\n",
       " 'on_train_batch_begin',\n",
       " 'on_train_batch_end',\n",
       " 'on_train_begin',\n",
       " 'on_train_end',\n",
       " 'params',\n",
       " 'set_model',\n",
       " 'set_params',\n",
       " 'validation_data']"
      ]
     },
     "execution_count": 14,
     "metadata": {},
     "output_type": "execute_result"
    }
   ],
   "source": [
    "dir(history)"
   ]
  },
  {
   "cell_type": "code",
   "execution_count": 15,
   "metadata": {
    "colab": {
     "base_uri": "https://localhost:8080/",
     "height": 120
    },
    "executionInfo": {
     "elapsed": 22,
     "status": "ok",
     "timestamp": 1719210692266,
     "user": {
      "displayName": "Samuel Hambling",
      "userId": "16671324372129903179"
     },
     "user_tz": -720
    },
    "id": "WxWcFTquzms5",
    "outputId": "d7c5cd95-20c0-4e29-e5e3-d4e331b49cc6"
   },
   "outputs": [
    {
     "data": {
      "text/html": [
       "<div style=\"max-width:800px; border: 1px solid var(--colab-border-color);\"><style>\n",
       "      pre.function-repr-contents {\n",
       "        overflow-x: auto;\n",
       "        padding: 8px 12px;\n",
       "        max-height: 500px;\n",
       "      }\n",
       "\n",
       "      pre.function-repr-contents.function-repr-contents-collapsed {\n",
       "        cursor: pointer;\n",
       "        max-height: 100px;\n",
       "      }\n",
       "    </style>\n",
       "    <pre style=\"white-space: initial; background:\n",
       "         var(--colab-secondary-surface-color); padding: 8px 12px;\n",
       "         border-bottom: 1px solid var(--colab-border-color);\"><b>keras.src.callbacks.Callback.on_batch_begin</b><br/>def on_batch_begin(batch, logs=None)</pre><pre class=\"function-repr-contents function-repr-contents-collapsed\" style=\"\"><a class=\"filepath\" style=\"display:none\" href=\"#\">/usr/local/lib/python3.10/dist-packages/keras/src/callbacks.py</a>A backwards compatibility alias for `on_train_batch_begin`.</pre>\n",
       "      <script>\n",
       "      if (google.colab.kernel.accessAllowed && google.colab.files && google.colab.files.view) {\n",
       "        for (const element of document.querySelectorAll('.filepath')) {\n",
       "          element.style.display = 'block'\n",
       "          element.onclick = (event) => {\n",
       "            event.preventDefault();\n",
       "            event.stopPropagation();\n",
       "            google.colab.files.view(element.textContent, 697);\n",
       "          };\n",
       "        }\n",
       "      }\n",
       "      for (const element of document.querySelectorAll('.function-repr-contents')) {\n",
       "        element.onclick = (event) => {\n",
       "          event.preventDefault();\n",
       "          event.stopPropagation();\n",
       "          element.classList.toggle('function-repr-contents-collapsed');\n",
       "        };\n",
       "      }\n",
       "      </script>\n",
       "      </div>"
      ],
      "text/plain": [
       "<bound method Callback.on_batch_begin of <keras.src.callbacks.History object at 0x7f5d6c0c3ee0>>"
      ]
     },
     "execution_count": 15,
     "metadata": {},
     "output_type": "execute_result"
    }
   ],
   "source": [
    "history.on_batch_begin"
   ]
  },
  {
   "cell_type": "code",
   "execution_count": 16,
   "metadata": {
    "executionInfo": {
     "elapsed": 20,
     "status": "ok",
     "timestamp": 1719210692266,
     "user": {
      "displayName": "Samuel Hambling",
      "userId": "16671324372129903179"
     },
     "user_tz": -720
    },
    "id": "CQsFQY0fy-Qy"
   },
   "outputs": [],
   "source": [
    "#predictions = model.predict_classes(X_test)\n",
    "#predictions =  (model.predict(X_test) > 0.5).astype(\"int32\")"
   ]
  },
  {
   "cell_type": "code",
   "execution_count": 17,
   "metadata": {
    "colab": {
     "base_uri": "https://localhost:8080/"
    },
    "executionInfo": {
     "elapsed": 19,
     "status": "ok",
     "timestamp": 1719210692266,
     "user": {
      "displayName": "Samuel Hambling",
      "userId": "16671324372129903179"
     },
     "user_tz": -720
    },
    "id": "Rxv8cytvB5hk",
    "outputId": "c0c89b44-5a65-48c6-c3c5-b3f6a24a6811"
   },
   "outputs": [
    {
     "name": "stdout",
     "output_type": "stream",
     "text": [
      "17/17 [==============================] - 0s 2ms/step\n"
     ]
    }
   ],
   "source": [
    "predictions = np.argmax(model.predict(X_test), axis=-1)"
   ]
  },
  {
   "cell_type": "code",
   "execution_count": 41,
   "metadata": {
    "colab": {
     "base_uri": "https://localhost:8080/"
    },
    "executionInfo": {
     "elapsed": 396,
     "status": "ok",
     "timestamp": 1719211416445,
     "user": {
      "displayName": "Samuel Hambling",
      "userId": "16671324372129903179"
     },
     "user_tz": -720
    },
    "id": "F0SQ84H4_Ef1",
    "outputId": "98a5d833-02a0-430f-de09-dcaf47347715"
   },
   "outputs": [
    {
     "data": {
      "text/plain": [
       "array([0, 7, 6, 9, 7, 5, 3, 0, 1, 3, 7, 7, 4, 3, 4, 1, 3, 8, 5, 3, 5, 3,\n",
       "       1, 2, 9, 6, 1, 6, 0, 1, 5, 4, 5, 0, 7, 9, 1, 1, 1, 6, 5, 9, 4, 1,\n",
       "       9, 4, 7, 7, 4, 3, 9, 4, 8, 3, 0, 9, 6, 8, 7, 2, 2, 5, 8, 7, 4, 3,\n",
       "       7, 1, 6, 9, 9, 4, 8, 1, 7, 2, 8, 6, 6, 7, 3, 0, 8, 3, 0, 1, 0, 2,\n",
       "       9, 4, 2, 3, 0, 1, 7, 7, 3, 9, 4, 5, 1, 2, 3, 8, 4, 2, 1, 2, 7, 2,\n",
       "       2, 3, 2, 5, 1, 4, 0, 8, 5, 5, 0, 1, 0, 8, 0, 9, 8, 1, 8, 1, 9, 5,\n",
       "       9, 1, 7, 5, 8, 9, 3, 6, 9, 7, 9, 5, 6, 2, 4, 3, 5, 3, 7, 4, 9, 4,\n",
       "       3, 4, 1, 6, 4, 2, 3, 1, 3, 6, 8, 5, 0, 1, 5, 0, 6, 9, 6, 4, 4, 5,\n",
       "       0, 0, 2, 6, 1, 6, 4, 2, 6, 8, 0, 9, 2, 5, 9, 0, 8, 5, 8, 9, 5, 9,\n",
       "       3, 2, 7, 6, 1, 9, 7, 5, 3, 0, 2, 0, 0, 5, 1, 9, 5, 6, 5, 5, 0, 8,\n",
       "       4, 4, 5, 7, 1, 9, 5, 7, 6, 5, 1, 1, 2, 0, 0, 0, 8, 1, 2, 2, 3, 4,\n",
       "       8, 7, 7, 6, 7, 5, 5, 5, 8, 6, 6, 8, 7, 6, 2, 6, 7, 6, 3, 2, 5, 5,\n",
       "       7, 7, 0, 5, 4, 6, 9, 5, 9, 2, 4, 6, 7, 5, 0, 4, 9, 6, 0, 5, 2, 7,\n",
       "       7, 8, 9, 3, 6, 8, 0, 3, 4, 6, 2, 9, 6, 1, 1, 1, 9, 3, 5, 8, 7, 1,\n",
       "       8, 2, 4, 3, 7, 5, 4, 3, 9, 7, 6, 8, 4, 8, 2, 8, 2, 0, 3, 4, 9, 7,\n",
       "       5, 6, 4, 6, 5, 8, 9, 6, 9, 0, 7, 2, 4, 6, 3, 1, 9, 6, 0, 3, 9, 8,\n",
       "       2, 8, 6, 7, 7, 5, 3, 9, 0, 5, 7, 7, 4, 3, 0, 6, 6, 2, 9, 5, 1, 4,\n",
       "       1, 8, 1, 2, 6, 2, 4, 8, 2, 2, 7, 8, 1, 8, 8, 5, 6, 9, 8, 6, 5, 1,\n",
       "       0, 0, 4, 6, 9, 4, 2, 5, 3, 5, 9, 0, 0, 8, 4, 4, 7, 3, 9, 1, 6, 5,\n",
       "       7, 9, 8, 1, 0, 8, 4, 8, 4, 7, 0, 6, 4, 7, 5, 2, 4, 5, 3, 8, 0, 6,\n",
       "       1, 0, 9, 1, 4, 7, 8, 4, 6, 9, 6, 3, 5, 3, 5, 0, 2, 5, 1, 6, 8, 2,\n",
       "       3, 0, 2, 7, 5, 5, 1, 3, 3, 2, 7, 1, 6, 0, 4, 8, 1, 0, 3, 3, 1, 0,\n",
       "       9, 4, 6, 1, 8, 4, 0, 4, 5, 6, 7, 4, 1, 8, 1, 2, 0, 3, 2, 3, 5, 6,\n",
       "       3, 0, 1, 4, 8, 9, 4, 5, 5, 9, 6, 0, 9, 3, 3, 5, 6, 3, 6, 1, 6, 2,\n",
       "       5, 3, 1, 0, 6, 7, 2, 4, 1, 6, 0, 2])"
      ]
     },
     "execution_count": 41,
     "metadata": {},
     "output_type": "execute_result"
    }
   ],
   "source": [
    "predictions"
   ]
  },
  {
   "cell_type": "code",
   "execution_count": 18,
   "metadata": {
    "colab": {
     "base_uri": "https://localhost:8080/"
    },
    "executionInfo": {
     "elapsed": 16,
     "status": "ok",
     "timestamp": 1719210692266,
     "user": {
      "displayName": "Samuel Hambling",
      "userId": "16671324372129903179"
     },
     "user_tz": -720
    },
    "id": "7XbWCdmmy-Q0",
    "outputId": "d9f4d64d-dd64-4b9c-8777-25056c8b59d0",
    "scrolled": true
   },
   "outputs": [
    {
     "name": "stdout",
     "output_type": "stream",
     "text": [
      "2/2 [==============================] - 0s 6ms/step - loss: 0.0755 - accuracy: 0.9796\n",
      "\n",
      "Test loss: 0.075545, Test accuracy: 0.979630\n"
     ]
    }
   ],
   "source": [
    "score = model.evaluate(X_test, y_test, batch_size = 315)\n",
    "print('\\nTest loss: %.6f, Test accuracy: %.6f' % tuple(score))"
   ]
  },
  {
   "cell_type": "code",
   "execution_count": 19,
   "metadata": {
    "executionInfo": {
     "elapsed": 14,
     "status": "ok",
     "timestamp": 1719210692267,
     "user": {
      "displayName": "Samuel Hambling",
      "userId": "16671324372129903179"
     },
     "user_tz": -720
    },
    "id": "YAEoxWaNy-Q2"
   },
   "outputs": [],
   "source": [
    "def print_cm(cm):\n",
    "    #cm : confusion matrix\n",
    "    c = '%%%dd ' % len('%d' % cm.max())\n",
    "    s = ' | '\n",
    "    s += ''.join([c % i for i in range(len(cm[0]))])\n",
    "    print(s)\n",
    "    print('-' * len(s))\n",
    "    for i, r in enumerate(cm):\n",
    "        s = '%d| ' % i\n",
    "        s += c * len(r)\n",
    "        print(s % tuple(r))"
   ]
  },
  {
   "cell_type": "code",
   "execution_count": 20,
   "metadata": {
    "colab": {
     "base_uri": "https://localhost:8080/"
    },
    "executionInfo": {
     "elapsed": 14,
     "status": "ok",
     "timestamp": 1719210692267,
     "user": {
      "displayName": "Samuel Hambling",
      "userId": "16671324372129903179"
     },
     "user_tz": -720
    },
    "id": "5a00OEH5y-Q4",
    "outputId": "aa7e01de-ac23-4a18-fd9e-98522b5ff151",
    "scrolled": true
   },
   "outputs": [
    {
     "name": "stdout",
     "output_type": "stream",
     "text": [
      " |  0  1  2  3  4  5  6  7  8  9 \n",
      "---------------------------------\n",
      "0| 54  0  0  0  1  0  0  0  0  0 \n",
      "1|  0 54  0  0  0  0  0  0  1  0 \n",
      "2|  0  0 48  0  0  0  0  1  0  0 \n",
      "3|  0  0  0 51  0  1  0  0  0  0 \n",
      "4|  0  0  0  0 54  0  1  0  0  0 \n",
      "5|  0  0  0  0  0 60  0  0  0  0 \n",
      "6|  0  0  0  0  0  1 60  0  0  0 \n",
      "7|  0  0  0  1  0  0  0 50  0  1 \n",
      "8|  0  1  0  0  0  0  0  0 48  0 \n",
      "9|  0  1  0  0  0  1  0  0  0 50 \n"
     ]
    }
   ],
   "source": [
    "y_test_target = np.array([x.argmax() for x in y_test])\n",
    "cm = confusion_matrix(y_test_target, predictions)\n",
    "print_cm(cm)"
   ]
  },
  {
   "cell_type": "code",
   "execution_count": 21,
   "metadata": {
    "colab": {
     "base_uri": "https://localhost:8080/"
    },
    "executionInfo": {
     "elapsed": 13,
     "status": "ok",
     "timestamp": 1719210692267,
     "user": {
      "displayName": "Samuel Hambling",
      "userId": "16671324372129903179"
     },
     "user_tz": -720
    },
    "id": "1pWSk8irBNRW",
    "outputId": "c8c37117-bc31-430c-f914-e7f22f120593"
   },
   "outputs": [
    {
     "data": {
      "text/plain": [
       "[1.4243818521499634,\n",
       " 0.4298993945121765,\n",
       " 0.27638372778892517,\n",
       " 0.20535334944725037,\n",
       " 0.27561289072036743,\n",
       " 0.12374696880578995,\n",
       " 0.11734843999147415,\n",
       " 0.09742166101932526,\n",
       " 0.07230869680643082,\n",
       " 0.06427878141403198,\n",
       " 0.05255437269806862,\n",
       " 0.04743647947907448,\n",
       " 0.04339537024497986,\n",
       " 0.03802400827407837,\n",
       " 0.03420006111264229,\n",
       " 0.031377553939819336,\n",
       " 0.02855161763727665,\n",
       " 0.027484185993671417,\n",
       " 0.023193325847387314,\n",
       " 0.02285582199692726,\n",
       " 0.023473288863897324,\n",
       " 0.01903010718524456,\n",
       " 0.017954975366592407,\n",
       " 0.01687922701239586,\n",
       " 0.015570607036352158,\n",
       " 0.014338165521621704,\n",
       " 0.013378583826124668,\n",
       " 0.013176031410694122,\n",
       " 0.012270815670490265,\n",
       " 0.011416435241699219,\n",
       " 0.014715874567627907,\n",
       " 0.011283059604465961,\n",
       " 0.009769344702363014,\n",
       " 0.00945297535508871,\n",
       " 0.009043107740581036,\n",
       " 0.008705923333764076,\n",
       " 0.008247379213571548,\n",
       " 0.007728468161076307,\n",
       " 0.007724895142018795,\n",
       " 0.007421143818646669,\n",
       " 0.007251589559018612,\n",
       " 0.006975640542805195,\n",
       " 0.006551063619554043,\n",
       " 0.0065894885919988155,\n",
       " 0.006335091311484575,\n",
       " 0.006056558340787888,\n",
       " 0.005934820044785738,\n",
       " 0.0056753745302557945,\n",
       " 0.0055503542535007,\n",
       " 0.005378757603466511,\n",
       " 0.0051867286674678326,\n",
       " 0.005113805178552866,\n",
       " 0.004971153102815151,\n",
       " 0.004818826913833618,\n",
       " 0.004675608593970537,\n",
       " 0.004717310890555382,\n",
       " 0.004498038440942764,\n",
       " 0.0043401895090937614,\n",
       " 0.004336737096309662,\n",
       " 0.004585788119584322,\n",
       " 0.004245486110448837,\n",
       " 0.004027378745377064,\n",
       " 0.003990039229393005,\n",
       " 0.003877755254507065,\n",
       " 0.004279185552150011,\n",
       " 0.0037270430475473404,\n",
       " 0.0035896364133805037,\n",
       " 0.003573925234377384,\n",
       " 0.0034684522543102503,\n",
       " 0.003455735743045807,\n",
       " 0.003354479791596532,\n",
       " 0.003305023070424795,\n",
       " 0.003253589617088437,\n",
       " 0.003196033416315913,\n",
       " 0.003137509571388364,\n",
       " 0.003058397676795721,\n",
       " 0.0030121253803372383,\n",
       " 0.003050766885280609,\n",
       " 0.002934821881353855,\n",
       " 0.0028639172669500113,\n",
       " 0.002833664184436202,\n",
       " 0.0027998241130262613,\n",
       " 0.0027323737740516663,\n",
       " 0.002696291310712695,\n",
       " 0.0026877711061388254,\n",
       " 0.00263389409519732,\n",
       " 0.002570764161646366,\n",
       " 0.002543744398280978,\n",
       " 0.0025168138090521097,\n",
       " 0.0024825653526932,\n",
       " 0.0024405894801020622,\n",
       " 0.0023968019522726536,\n",
       " 0.0023825829848647118,\n",
       " 0.002358788624405861,\n",
       " 0.0022983180824667215,\n",
       " 0.002281646244227886,\n",
       " 0.0022476105950772762,\n",
       " 0.002224150812253356,\n",
       " 0.002191552659496665,\n",
       " 0.002160386648029089]"
      ]
     },
     "execution_count": 21,
     "metadata": {},
     "output_type": "execute_result"
    }
   ],
   "source": [
    "history.history['loss']"
   ]
  },
  {
   "cell_type": "code",
   "execution_count": 22,
   "metadata": {
    "colab": {
     "base_uri": "https://localhost:8080/",
     "height": 358
    },
    "executionInfo": {
     "elapsed": 997,
     "status": "ok",
     "timestamp": 1719210693253,
     "user": {
      "displayName": "Samuel Hambling",
      "userId": "16671324372129903179"
     },
     "user_tz": -720
    },
    "id": "UhiEYNVqy-Q6",
    "outputId": "246f4a5e-13ab-478a-db3d-c864acb4eca0",
    "scrolled": true
   },
   "outputs": [
    {
     "data": {
      "image/png": "[encoded data removed]",
      "text/plain": [
       "<Figure size 1800x600 with 2 Axes>"
      ]
     },
     "metadata": {},
     "output_type": "display_data"
    }
   ],
   "source": [
    "fig, ax = plt.subplots(1, 2, figsize = (18, 6))\n",
    "fig.subplots_adjust(left = 0.02, right = 0.98, wspace = 0.2)\n",
    "\n",
    "plt.rcParams.update({'font.size': 18})\n",
    "\n",
    "# Plot training & validation accuracy values\n",
    "ax[0].plot(history.history['accuracy'], label = 'Training')\n",
    "ax[0].plot(history.history['val_accuracy'], label = 'Validation')\n",
    "ax[0].set_title('Model accuracy')\n",
    "ax[0].set_ylabel('Accuracy')\n",
    "ax[0].set_xlabel('Epoch')\n",
    "ax[0].legend()\n",
    "\n",
    "# Plot training & validation loss values\n",
    "ax[1].plot(history.history['loss'], label = 'Training')\n",
    "ax[1].plot(history.history['val_loss'], label = 'Validation')\n",
    "ax[1].set_title('Model loss')\n",
    "ax[1].set_ylabel('Loss')\n",
    "ax[1].set_xlabel('Epoch')\n",
    "ax[1].legend()\n",
    "\n",
    "plt.show()"
   ]
  },
  {
   "cell_type": "code",
   "execution_count": 23,
   "metadata": {
    "executionInfo": {
     "elapsed": 9,
     "status": "ok",
     "timestamp": 1719210693254,
     "user": {
      "displayName": "Samuel Hambling",
      "userId": "16671324372129903179"
     },
     "user_tz": -720
    },
    "id": "grQoh06wy-Q7"
   },
   "outputs": [],
   "source": [
    "def show_digit():\n",
    "    id = np.random.randint(len(predictions))\n",
    "    XTest = X_test[id].reshape(8, 8)\n",
    "    plt.figure(figsize = (2, 2))\n",
    "    plt.imshow(XTest, cmap = 'gray')\n",
    "    plt.title('Prediction: %d' % predictions[id])\n",
    "    plt.xticks([])\n",
    "    plt.yticks([])\n",
    "    plt.show()"
   ]
  },
  {
   "cell_type": "code",
   "execution_count": 24,
   "metadata": {
    "executionInfo": {
     "elapsed": 8,
     "status": "ok",
     "timestamp": 1719210693254,
     "user": {
      "displayName": "Samuel Hambling",
      "userId": "16671324372129903179"
     },
     "user_tz": -720
    },
    "id": "4A6G2LEPy-Q9"
   },
   "outputs": [],
   "source": [
    "def show_10_digits():\n",
    "    fig, ax = plt.subplots(2, 5, figsize = (8, 4))\n",
    "    fig.subplots_adjust(left = 0.02, right = 0.98, top = 0.8, wspace = 0.2, hspace = 0.3)\n",
    "    fig.suptitle('Ten Predictions', fontsize = 12, fontweight = 'bold')\n",
    "\n",
    "    plt.rcParams.update({'font.size': 10})\n",
    "\n",
    "    ids = np.random.randint(len(predictions), size = 10)\n",
    "    r = 0\n",
    "    c = 0\n",
    "    for id in ids:\n",
    "        XTest = X_test[id].reshape(8, 8)\n",
    "\n",
    "        # original image\n",
    "        ax[r, c].imshow(XTest, cmap = 'gray')\n",
    "        ax[r, c].set_title('Prediction: %d' % predictions[id])\n",
    "        ax[r, c].set_xticks([])\n",
    "        ax[r, c].set_yticks([])\n",
    "        c += 1\n",
    "        if c > 4:\n",
    "            r += 1\n",
    "            c = 0\n",
    "\n",
    "    plt.show()"
   ]
  },
  {
   "cell_type": "code",
   "execution_count": 25,
   "metadata": {
    "colab": {
     "base_uri": "https://localhost:8080/",
     "height": 222
    },
    "executionInfo": {
     "elapsed": 7,
     "status": "ok",
     "timestamp": 1719210693254,
     "user": {
      "displayName": "Samuel Hambling",
      "userId": "16671324372129903179"
     },
     "user_tz": -720
    },
    "id": "iG9wf-bTy-Q-",
    "outputId": "7733d5a2-97d6-47c5-b6c2-6f5fa2d2185b"
   },
   "outputs": [
    {
     "data": {
      "image/png": "[encoded data removed]",
      "text/plain": [
       "<Figure size 200x200 with 1 Axes>"
      ]
     },
     "metadata": {},
     "output_type": "display_data"
    }
   ],
   "source": [
    "# show one\n",
    "show_digit()"
   ]
  },
  {
   "cell_type": "code",
   "execution_count": 26,
   "metadata": {
    "colab": {
     "base_uri": "https://localhost:8080/",
     "height": 385
    },
    "executionInfo": {
     "elapsed": 664,
     "status": "ok",
     "timestamp": 1719210693912,
     "user": {
      "displayName": "Samuel Hambling",
      "userId": "16671324372129903179"
     },
     "user_tz": -720
    },
    "id": "Ue7Oo4Vxy-Q_",
    "outputId": "c045cfa4-f51f-4128-d55d-ab68faa5d59c",
    "scrolled": true
   },
   "outputs": [
    {
     "data": {
      "image/png": "[encoded data removed]",
      "text/plain": [
       "<Figure size 800x400 with 10 Axes>"
      ]
     },
     "metadata": {},
     "output_type": "display_data"
    }
   ],
   "source": [
    "# show ten\n",
    "show_10_digits()"
   ]
  },
  {
   "cell_type": "markdown",
   "metadata": {
    "id": "RERADKgNFq9T"
   },
   "source": [
    "\n",
    "\n",
    "---\n",
    "\n",
    "\n",
    "\n",
    "---\n",
    "\n",
    "\n",
    "\n",
    "> > > > > > > > > © 2024 Institute of Data\n",
    "\n",
    "\n",
    "---\n",
    "\n",
    "\n",
    "\n",
    "---"
   ]
  }
 ],
 "metadata": {
  "accelerator": "GPU",
  "colab": {
   "provenance": []
  },
  "kernelspec": {
   "display_name": "Python 3 (ipykernel)",
   "language": "python",
   "name": "python3"
  },
  "language_info": {
   "codemirror_mode": {
    "name": "ipython",
    "version": 3
   },
   "file_extension": ".py",
   "mimetype": "text/x-python",
   "name": "python",
   "nbconvert_exporter": "python",
   "pygments_lexer": "ipython3",
   "version": "3.12.5"
  }
 },
 "nbformat": 4,
 "nbformat_minor": 4
}
