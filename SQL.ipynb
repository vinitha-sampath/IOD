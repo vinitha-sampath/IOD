{
 "cells": [
  {
   "cell_type": "code",
   "execution_count": 3,
   "id": "615ac6b2-8983-450f-a192-b85def4f1f56",
   "metadata": {},
   "outputs": [
    {
     "data": {
      "text/plain": [
       "<sqlite3.Cursor at 0x1d48cc46b40>"
      ]
     },
     "execution_count": 3,
     "metadata": {},
     "output_type": "execute_result"
    }
   ],
   "source": [
    "# Reconnect to SQLite database (or create it if it doesn't exist)\n",
    "import sqlite3\n",
    "import pandas as pd\n",
    "# Connect to SQLite database (or create it if it doesn't exist)\n",
    "conn = sqlite3.connect(':memory:')\n",
    "cursor = conn.cursor()\n",
    "# Create the students table\n",
    "cursor.execute('''\n",
    "CREATE TABLE students (\n",
    "    student_id INTEGER PRIMARY KEY,\n",
    "    name TEXT NOT NULL,\n",
    "    age INTEGER,\n",
    "    major TEXT\n",
    ");\n",
    "''')\n",
    "# Create the courses table\n",
    "cursor.execute('''\n",
    "CREATE TABLE courses (\n",
    "    course_id INTEGER PRIMARY KEY,\n",
    "    course_name TEXT NOT NULL\n",
    ");\n",
    "''')\n",
    "# Create the enrollments table\n",
    "cursor.execute('''\n",
    "CREATE TABLE enrollments (\n",
    "    enrollment_id INTEGER PRIMARY KEY,\n",
    "    student_id INTEGER,\n",
    "    course_id INTEGER,\n",
    "    FOREIGN KEY (student_id) REFERENCES students (student_id),\n",
    "    FOREIGN KEY (course_id) REFERENCES courses (course_id)\n",
    ");\n",
    "''')\n",
    "# Create the exams table\n",
    "cursor.execute('''\n",
    "CREATE TABLE exams (\n",
    "    exam_id INTEGER PRIMARY KEY,\n",
    "    enrollment_id INTEGER,\n",
    "    score INTEGER,\n",
    "    FOREIGN KEY (enrollment_id) REFERENCES enrollments (enrollment_id)\n",
    ");\n",
    "''')"
   ]
  },
  {
   "cell_type": "code",
   "execution_count": 2,
   "id": "4150e175-38ea-45c7-9c31-a231a3298e44",
   "metadata": {},
   "outputs": [],
   "source": [
    "# Create the exams table\n",
    "import sqlite3\n",
    "import pandas as pd"
   ]
  },
  {
   "cell_type": "code",
   "execution_count": 5,
   "id": "c27ce176-5d06-4f56-8a5e-ed4b05e0e73a",
   "metadata": {},
   "outputs": [],
   "source": [
    "# Establish connection to SQLite database (create one if not exists)\n",
    "conn = sqlite3.connect('mydatabase.db')\n",
    "\n",
    "# Create a cursor object\n",
    "cursor = conn.cursor()"
   ]
  },
  {
   "cell_type": "code",
   "execution_count": 6,
   "id": "697604ae-bafa-4b54-ab32-a02380dac557",
   "metadata": {},
   "outputs": [
    {
     "data": {
      "text/plain": [
       "<sqlite3.Cursor at 0x20edaa3e140>"
      ]
     },
     "execution_count": 6,
     "metadata": {},
     "output_type": "execute_result"
    }
   ],
   "source": [
    "# Create the enrollments table\n",
    "cursor.execute('''\n",
    "CREATE TABLE enrollments (\n",
    "    enrollment_id INTEGER PRIMARY KEY,\n",
    "    student_id INTEGER,\n",
    "    course_id INTEGER,\n",
    "    FOREIGN KEY (student_id) REFERENCES students (student_id),\n",
    "    FOREIGN KEY (course_id) REFERENCES courses (course_id)\n",
    ");\n",
    "''')"
   ]
  },
  {
   "cell_type": "code",
   "execution_count": 7,
   "id": "6c75f750-f21f-49bd-b408-7d664e35c44d",
   "metadata": {},
   "outputs": [],
   "source": [
    "# Connect to SQLite database (or create it if it doesn't exist)\n",
    "conn = sqlite3.connect(':memory:')\n",
    "cursor = conn.cursor()"
   ]
  },
  {
   "cell_type": "code",
   "execution_count": 8,
   "id": "9b912790-3b11-4917-ad83-ad46f6b3e8cc",
   "metadata": {},
   "outputs": [
    {
     "data": {
      "text/plain": [
       "<sqlite3.Cursor at 0x20ef3a74340>"
      ]
     },
     "execution_count": 8,
     "metadata": {},
     "output_type": "execute_result"
    }
   ],
   "source": [
    "# Create the students table\n",
    "cursor.execute('''\n",
    "CREATE TABLE students (\n",
    "    student_id INTEGER PRIMARY KEY,\n",
    "    name TEXT NOT NULL,\n",
    "    age INTEGER,\n",
    "    major TEXT\n",
    ");\n",
    "''')"
   ]
  },
  {
   "cell_type": "code",
   "execution_count": 9,
   "id": "0fce80d1-506a-4f7d-a9c8-aa9866ec79f3",
   "metadata": {},
   "outputs": [
    {
     "data": {
      "text/plain": [
       "<sqlite3.Cursor at 0x20ef3a74340>"
      ]
     },
     "execution_count": 9,
     "metadata": {},
     "output_type": "execute_result"
    }
   ],
   "source": [
    "# Create the courses table\n",
    "cursor.execute('''\n",
    "CREATE TABLE courses (\n",
    "    course_id INTEGER PRIMARY KEY,\n",
    "    course_name TEXT NOT NULL\n",
    ");\n",
    "''')"
   ]
  },
  {
   "cell_type": "code",
   "execution_count": 10,
   "id": "0acf8c24-266a-4b3c-820b-ad7988793754",
   "metadata": {},
   "outputs": [
    {
     "data": {
      "text/plain": [
       "<sqlite3.Cursor at 0x20ef3a74340>"
      ]
     },
     "execution_count": 10,
     "metadata": {},
     "output_type": "execute_result"
    }
   ],
   "source": [
    "# Create the enrollments table\n",
    "cursor.execute('''\n",
    "CREATE TABLE enrollments (\n",
    "    enrollment_id INTEGER PRIMARY KEY,\n",
    "    student_id INTEGER,\n",
    "    course_id INTEGER,\n",
    "    FOREIGN KEY (student_id) REFERENCES students (student_id),\n",
    "    FOREIGN KEY (course_id) REFERENCES courses (course_id)\n",
    ");\n",
    "''')"
   ]
  },
  {
   "cell_type": "code",
   "execution_count": 11,
   "id": "ea494f25-0913-43f3-a9c7-05e8d3a12055",
   "metadata": {},
   "outputs": [
    {
     "data": {
      "text/plain": [
       "<sqlite3.Cursor at 0x20ef3a74340>"
      ]
     },
     "execution_count": 11,
     "metadata": {},
     "output_type": "execute_result"
    }
   ],
   "source": [
    "# Create the exams table\n",
    "cursor.execute('''\n",
    "CREATE TABLE exams (\n",
    "    exam_id INTEGER PRIMARY KEY,\n",
    "    enrollment_id INTEGER,\n",
    "    score INTEGER,\n",
    "    FOREIGN KEY (enrollment_id) REFERENCES enrollments (enrollment_id)\n",
    ");\n",
    "''')"
   ]
  },
  {
   "cell_type": "code",
   "execution_count": 2,
   "id": "9b31fa69-04c9-443b-9f64-8b5f9550532a",
   "metadata": {},
   "outputs": [],
   "source": [
    "import sqlite3\n",
    "sqlite_db = 'test_db.sqlite'\n",
    "conn = sqlite3.connect(sqlite_db)\n",
    "c = conn.cursor()"
   ]
  },
  {
   "cell_type": "code",
   "execution_count": null,
   "id": "0a24e2f6-62e5-428a-b4da-d26d61d7d9b6",
   "metadata": {},
   "outputs": [],
   "source": []
  }
 ],
 "metadata": {
  "kernelspec": {
   "display_name": "Python 3 (ipykernel)",
   "language": "python",
   "name": "python3"
  },
  "language_info": {
   "codemirror_mode": {
    "name": "ipython",
    "version": 3
   },
   "file_extension": ".py",
   "mimetype": "text/x-python",
   "name": "python",
   "nbconvert_exporter": "python",
   "pygments_lexer": "ipython3",
   "version": "3.12.3"
  }
 },
 "nbformat": 4,
 "nbformat_minor": 5
}
